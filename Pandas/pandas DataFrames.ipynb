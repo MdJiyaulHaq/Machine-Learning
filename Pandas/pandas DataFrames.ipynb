{
 "cells": [
  {
   "cell_type": "markdown",
   "id": "fd97b162",
   "metadata": {},
   "source": [
    "A Pandas DataFrame is a 2 dimensional data structure, like a 2 dimensional array, or a table with rows and columns."
   ]
  },
  {
   "cell_type": "code",
   "execution_count": 26,
   "id": "52e9a6fd",
   "metadata": {},
   "outputs": [
    {
     "name": "stdout",
     "output_type": "stream",
     "text": [
      "students    [shankar, hari, md]\n",
      "gpa            [3.3, 3.0, 3.02]\n",
      "dtype: object\n"
     ]
    }
   ],
   "source": [
    "mydict= {\n",
    "    'students':['shankar','hari','md'],\n",
    "    'gpa': [3.3,3.0,3.02]\n",
    "}\n",
    "x= pd.Series(mydict) # loading the list into DataFrame\n",
    "print(x)"
   ]
  },
  {
   "cell_type": "markdown",
   "id": "413c5d03",
   "metadata": {},
   "source": [
    "# DataFrames"
   ]
  },
  {
   "cell_type": "markdown",
   "id": "2d605550",
   "metadata": {},
   "source": [
    "Data sets in Pandas are usually multi-dimensional tables, called DataFrames.\n",
    "\n",
    "Series is like a column, a DataFrame is the whole table."
   ]
  },
  {
   "cell_type": "markdown",
   "id": "46b15d1c",
   "metadata": {},
   "source": [
    "Pandas use the loc attribute to return one or more specified row(s)"
   ]
  },
  {
   "cell_type": "code",
   "execution_count": 27,
   "id": "d4b64c37",
   "metadata": {},
   "outputs": [
    {
     "name": "stdout",
     "output_type": "stream",
     "text": [
      "  students   gpa\n",
      "0  shankar  3.30\n",
      "1     hari  3.00\n",
      "2       md  3.02\n",
      "students      md\n",
      "gpa         3.02\n",
      "Name: 2, dtype: object\n",
      "  students   gpa\n",
      "0  shankar  3.30\n",
      "1     hari  3.00\n",
      "2       md  3.02\n"
     ]
    }
   ],
   "source": [
    "dataset={\n",
    "    \"students\":[\"shankar\",\"hari\",\"md\"],\n",
    "    \"gpa\":[3.3,3.0,3.02]\n",
    "}\n",
    "x=pd.DataFrame(dataset)\n",
    "print(x)\n",
    "print(x.loc[2]) # Pandas use the loc attribute to return one or more specified row(s)\n",
    "print(x.loc[0:2]) # When using [], the result is a Pandas DataFrame."
   ]
  },
  {
   "cell_type": "markdown",
   "id": "d8a8ab21",
   "metadata": {},
   "source": [
    "# indices "
   ]
  },
  {
   "cell_type": "markdown",
   "id": "6d501bd3",
   "metadata": {},
   "source": [
    "by default is: 0,1,2...\n",
    "    can name your own indexes."
   ]
  },
  {
   "cell_type": "code",
   "execution_count": 28,
   "id": "a0a74d56",
   "metadata": {},
   "outputs": [
    {
     "name": "stdout",
     "output_type": "stream",
     "text": [
      "   students   gpa\n",
      "23  shankar  3.30\n",
      "9      hari  3.00\n",
      "15       md  3.02\n",
      "students      md\n",
      "gpa         3.02\n",
      "Name: 15, dtype: object\n"
     ]
    }
   ],
   "source": [
    "dataset={\n",
    "    \"students\":[\"shankar\",\"hari\",\"md\"],\n",
    "    \"gpa\":[3.3,3.0,3.02]\n",
    "}\n",
    "x=pd.DataFrame(dataset, index=[23,9,15])\n",
    "print(x)\n",
    "print(x.loc[15])"
   ]
  },
  {
   "cell_type": "code",
   "execution_count": null,
   "id": "27acd27d",
   "metadata": {},
   "outputs": [],
   "source": []
  }
 ],
 "metadata": {
  "kernelspec": {
   "display_name": "Python 3",
   "language": "python",
   "name": "python3"
  },
  "language_info": {
   "codemirror_mode": {
    "name": "ipython",
    "version": 3
   },
   "file_extension": ".py",
   "mimetype": "text/x-python",
   "name": "python",
   "nbconvert_exporter": "python",
   "pygments_lexer": "ipython3",
   "version": "3.8.8"
  }
 },
 "nbformat": 4,
 "nbformat_minor": 5
}
