{
 "cells": [
  {
   "cell_type": "markdown",
   "id": "e6701d25",
   "metadata": {},
   "source": [
    "# cleaning the wrong formatted "
   ]
  },
  {
   "cell_type": "code",
   "execution_count": null,
   "id": "74ff29cd",
   "metadata": {},
   "outputs": [],
   "source": [
    "import pandas as pd\n",
    "\n",
    "df = pd.read_csv('dirtydata.csv')\n",
    "df['Date'] = pd.to_datetime(df['Date'])\n",
    "print(df['Date'])"
   ]
  },
  {
   "cell_type": "markdown",
   "id": "6238012d",
   "metadata": {},
   "source": [
    "remove the row that produces not a time value(nat)"
   ]
  },
  {
   "cell_type": "code",
   "execution_count": null,
   "id": "177a0d70",
   "metadata": {},
   "outputs": [],
   "source": [
    "x=df.dropna(subset=['Date'])\n",
    "x"
   ]
  },
  {
   "cell_type": "code",
   "execution_count": null,
   "id": "74dd33c6",
   "metadata": {},
   "outputs": [],
   "source": []
  }
 ],
 "metadata": {
  "kernelspec": {
   "display_name": "Python 3",
   "language": "python",
   "name": "python3"
  },
  "language_info": {
   "codemirror_mode": {
    "name": "ipython",
    "version": 3
   },
   "file_extension": ".py",
   "mimetype": "text/x-python",
   "name": "python",
   "nbconvert_exporter": "python",
   "pygments_lexer": "ipython3",
   "version": "3.8.8"
  }
 },
 "nbformat": 4,
 "nbformat_minor": 5
}
