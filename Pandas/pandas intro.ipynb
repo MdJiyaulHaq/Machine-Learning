{
 "cells": [
  {
   "cell_type": "code",
   "execution_count": 3,
   "id": "a064e075",
   "metadata": {},
   "outputs": [
    {
     "name": "stdout",
     "output_type": "stream",
     "text": [
      "  students   gpa\n",
      "0  shankar  3.30\n",
      "1     hari  3.00\n",
      "2       md  3.02\n"
     ]
    }
   ],
   "source": [
    "import pandas as pd\n",
    "\n",
    "dataset={\n",
    "    \"students\":[\"shankar\",\"hari\",\"md\"],\n",
    "    \"gpa\":[3.3,3.0,3.02]\n",
    "}\n",
    "x=pd.DataFrame(dataset)\n",
    "print(x)\n",
    "print(pd.)"
   ]
  },
  {
   "cell_type": "code",
   "execution_count": null,
   "id": "6d7f4a05",
   "metadata": {},
   "outputs": [],
   "source": []
  }
 ],
 "metadata": {
  "kernelspec": {
   "display_name": "Python 3",
   "language": "python",
   "name": "python3"
  },
  "language_info": {
   "codemirror_mode": {
    "name": "ipython",
    "version": 3
   },
   "file_extension": ".py",
   "mimetype": "text/x-python",
   "name": "python",
   "nbconvert_exporter": "python",
   "pygments_lexer": "ipython3",
   "version": "3.8.8"
  }
 },
 "nbformat": 4,
 "nbformat_minor": 5
}
