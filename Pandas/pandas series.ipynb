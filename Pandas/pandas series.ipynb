{
 "cells": [
  {
   "cell_type": "markdown",
   "id": "94a2398d",
   "metadata": {},
   "source": [
    "A Pandas Series is like a column in a table.\n",
    "\n",
    "It is a one-dimensional array holding data of any type."
   ]
  },
  {
   "cell_type": "code",
   "execution_count": null,
   "id": "1d1f2af1",
   "metadata": {},
   "outputs": [],
   "source": [
    "import pandas as pd\n",
    "import numpy as np\n",
    "\n",
    "arr= np.arange(4,9)\n",
    "newarr= pd.Series(arr) # creating a pandas series from list\n",
    "print(newarr)\n",
    "newarr[2]"
   ]
  },
  {
   "cell_type": "code",
   "execution_count": null,
   "id": "7bad8867",
   "metadata": {},
   "outputs": [],
   "source": [
    "import pandas as pd\n",
    "import numpy as np\n",
    "\n",
    "arr= np.arange(4,7)\n",
    "newarr= pd.Series(arr, index=[\"a\",\"b\",\"c\"])\n",
    "print(newarr)\n",
    "newarr['b']"
   ]
  },
  {
   "cell_type": "markdown",
   "id": "5316acef",
   "metadata": {},
   "source": [
    "key and value as label and series"
   ]
  },
  {
   "cell_type": "code",
   "execution_count": 17,
   "id": "9cf81507",
   "metadata": {},
   "outputs": [
    {
     "name": "stdout",
     "output_type": "stream",
     "text": [
      "shankar    3.30\n",
      "md         3.02\n",
      "dtype: float64\n",
      "3.02\n"
     ]
    }
   ],
   "source": [
    "mydict= {\n",
    "    'shankar':3.3,\n",
    "    'hari': 3.,\n",
    "    'md':3.02\n",
    "}\n",
    "x= pd.Series(mydict, index=['shankar','md']) # excludes the rest of the items\n",
    "print(x)\n",
    "print(x['md']) # accessing individual "
   ]
  },
  {
   "cell_type": "markdown",
   "id": "5b86c692",
   "metadata": {},
   "source": [
    "# DataFrames"
   ]
  },
  {
   "cell_type": "markdown",
   "id": "4b25045c",
   "metadata": {},
   "source": [
    "Data sets in Pandas are usually multi-dimensional tables, called DataFrames.\n",
    "\n",
    "Series is like a column, a DataFrame is the whole table."
   ]
  },
  {
   "cell_type": "code",
   "execution_count": 18,
   "id": "4b087cbd",
   "metadata": {},
   "outputs": [
    {
     "name": "stdout",
     "output_type": "stream",
     "text": [
      "  students   gpa\n",
      "0  shankar  3.30\n",
      "1     hari  3.00\n",
      "2       md  3.02\n"
     ]
    }
   ],
   "source": [
    "dataset={\n",
    "    \"students\":[\"shankar\",\"hari\",\"md\"],\n",
    "    \"gpa\":[3.3,3.0,3.02]\n",
    "}\n",
    "print(pd.DataFrame(dataset))"
   ]
  },
  {
   "cell_type": "code",
   "execution_count": null,
   "id": "abe0fb3f",
   "metadata": {},
   "outputs": [],
   "source": []
  }
 ],
 "metadata": {
  "kernelspec": {
   "display_name": "Python 3",
   "language": "python",
   "name": "python3"
  },
  "language_info": {
   "codemirror_mode": {
    "name": "ipython",
    "version": 3
   },
   "file_extension": ".py",
   "mimetype": "text/x-python",
   "name": "python",
   "nbconvert_exporter": "python",
   "pygments_lexer": "ipython3",
   "version": "3.8.8"
  }
 },
 "nbformat": 4,
 "nbformat_minor": 5
}
