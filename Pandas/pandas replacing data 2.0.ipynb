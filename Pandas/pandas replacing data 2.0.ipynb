{
 "cells": [
  {
   "cell_type": "markdown",
   "id": "e6701d25",
   "metadata": {},
   "source": [
    "# replace using mean, median or mode"
   ]
  },
  {
   "cell_type": "code",
   "execution_count": null,
   "id": "74ff29cd",
   "metadata": {},
   "outputs": [],
   "source": [
    "import pandas as pd\n",
    "\n",
    "df = pd.read_csv('dirtydata.csv')\n",
    "\n",
    "x = df[\"Calories\"].mean() # similarly for median\n",
    "print(x)\n",
    "\n",
    "df[\"Calories\"].fillna(x, inplace = True) \n",
    "df"
   ]
  },
  {
   "cell_type": "code",
   "execution_count": null,
   "id": "cdd8b8fc",
   "metadata": {},
   "outputs": [],
   "source": [
    "import pandas as pd\n",
    "\n",
    "df = pd.read_csv('dirtydata.csv')\n",
    "\n",
    "x = df[\"Calories\"].mode()[0] # mode is little different\n",
    "print(x)\n",
    "\n",
    "df[\"Calories\"].fillna(x, inplace = True) \n",
    "df"
   ]
  },
  {
   "cell_type": "code",
   "execution_count": null,
   "id": "e048c425",
   "metadata": {},
   "outputs": [],
   "source": []
  }
 ],
 "metadata": {
  "kernelspec": {
   "display_name": "Python 3",
   "language": "python",
   "name": "python3"
  },
  "language_info": {
   "codemirror_mode": {
    "name": "ipython",
    "version": 3
   },
   "file_extension": ".py",
   "mimetype": "text/x-python",
   "name": "python",
   "nbconvert_exporter": "python",
   "pygments_lexer": "ipython3",
   "version": "3.8.8"
  }
 },
 "nbformat": 4,
 "nbformat_minor": 5
}
