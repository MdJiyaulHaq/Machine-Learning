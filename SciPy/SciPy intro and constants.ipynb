{
 "cells": [
  {
   "cell_type": "code",
   "execution_count": null,
   "id": "2a10c29f",
   "metadata": {},
   "outputs": [],
   "source": [
    "import scipy\n",
    "from scipy import constants\n",
    "\n",
    "print(scipy.__version__)"
   ]
  },
  {
   "cell_type": "markdown",
   "id": "bcd6caeb",
   "metadata": {},
   "source": [
    "# constants in scipy"
   ]
  },
  {
   "cell_type": "code",
   "execution_count": null,
   "id": "92c00fa1",
   "metadata": {},
   "outputs": [],
   "source": [
    "print(constants.liter)\n",
    "print(constants.pi)"
   ]
  },
  {
   "cell_type": "markdown",
   "id": "f1976db7",
   "metadata": {},
   "source": [
    "constants units"
   ]
  },
  {
   "cell_type": "code",
   "execution_count": null,
   "id": "c2a96e00",
   "metadata": {},
   "outputs": [],
   "source": [
    "print(dir(constants))"
   ]
  },
  {
   "cell_type": "markdown",
   "id": "2c2b68a2",
   "metadata": {},
   "source": [
    "Unit Categories\n",
    "\n",
    "The units are placed under these categories:\n",
    "\n",
    "    Metric\n",
    "    Binary\n",
    "    Mass\n",
    "    Angle\n",
    "    Time\n",
    "    Length\n",
    "    Pressure\n",
    "    Volume\n",
    "    Speed\n",
    "    Temperature\n",
    "    Energy\n",
    "    Power\n",
    "    Force"
   ]
  },
  {
   "cell_type": "code",
   "execution_count": null,
   "id": "d0e86887",
   "metadata": {},
   "outputs": [],
   "source": [
    "# metric(SI) system:\n",
    "print(constants.yotta)    #1e+24\n",
    "print(constants.zetta)    #1e+21\n",
    "print(constants.exa)      #1e+18\n",
    "print(constants.peta)     #1000000000000000.0\n",
    "print(constants.tera)     #1000000000000.0\n",
    "print(constants.giga)     #1000000000.0\n",
    "print(constants.mega)     #1000000.0\n",
    "print(constants.kilo)     #1000.0\n",
    "print(constants.hecto)    #100.0\n",
    "print(constants.deka)     #10.0\n",
    "print(constants.deci)     #0.1\n",
    "print(constants.centi)    #0.01\n",
    "print(constants.milli)    #0.001\n",
    "print(constants.micro)    #1e-06\n",
    "print(constants.nano)     #1e-09\n",
    "print(constants.pico)     #1e-12\n",
    "print(constants.femto)    #1e-15\n",
    "print(constants.atto)     #1e-18\n",
    "print(constants.zepto)    #1e-21 "
   ]
  },
  {
   "cell_type": "code",
   "execution_count": null,
   "id": "a4345c6c",
   "metadata": {},
   "outputs": [],
   "source": [
    "# binary prefixes:\n",
    "print(constants.kibi)    #1024\n",
    "print(constants.mebi)    #1048576\n",
    "print(constants.gibi)    #1073741824\n",
    "print(constants.tebi)    #1099511627776\n",
    "print(constants.pebi)    #1125899906842624\n",
    "print(constants.exbi)    #1152921504606846976\n",
    "print(constants.zebi)    #1180591620717411303424\n",
    "print(constants.yobi)    #1208925819614629174706176 "
   ]
  },
  {
   "cell_type": "code",
   "execution_count": null,
   "id": "58dc766d",
   "metadata": {},
   "outputs": [],
   "source": [
    "# mass :\n",
    "print(constants.gram)        #0.001\n",
    "print(constants.metric_ton)  #1000.0\n",
    "print(constants.grain)       #6.479891e-05\n",
    "print(constants.lb)          #0.45359236999999997\n",
    "print(constants.pound)       #0.45359236999999997\n",
    "print(constants.oz)          #0.028349523124999998\n",
    "print(constants.ounce)       #0.028349523124999998\n",
    "print(constants.stone)       #6.3502931799999995\n",
    "print(constants.long_ton)    #1016.0469088\n",
    "print(constants.short_ton)   #907.1847399999999\n",
    "print(constants.troy_ounce)  #0.031103476799999998\n",
    "print(constants.troy_pound)  #0.37324172159999996\n",
    "print(constants.carat)       #0.0002\n",
    "print(constants.atomic_mass) #1.66053904e-27\n",
    "print(constants.m_u)         #1.66053904e-27\n",
    "print(constants.u)           #1.66053904e-27"
   ]
  },
  {
   "cell_type": "code",
   "execution_count": null,
   "id": "3356a40a",
   "metadata": {},
   "outputs": [],
   "source": [
    "# angle:\n",
    "print(constants.degree)     #0.017453292519943295\n",
    "print(constants.arcmin)     #0.0002908882086657216\n",
    "print(constants.arcminute)  #0.0002908882086657216\n",
    "print(constants.arcsec)     #4.84813681109536e-06\n",
    "print(constants.arcsecond)  #4.84813681109536e-06 "
   ]
  },
  {
   "cell_type": "code",
   "execution_count": null,
   "id": "a6995a15",
   "metadata": {},
   "outputs": [],
   "source": [
    "# Time:\n",
    "print(constants.minute)      #60.0\n",
    "print(constants.hour)        #3600.0\n",
    "print(constants.day)         #86400.0\n",
    "print(constants.week)        #604800.0\n",
    "print(constants.year)        #31536000.0\n",
    "print(constants.Julian_year) #31557600.0 "
   ]
  },
  {
   "cell_type": "code",
   "execution_count": null,
   "id": "d48886bb",
   "metadata": {},
   "outputs": [],
   "source": [
    "# Length:\n",
    "print(constants.inch)              #0.0254\n",
    "print(constants.foot)              #0.30479999999999996\n",
    "print(constants.yard)              #0.9143999999999999\n",
    "print(constants.mile)              #1609.3439999999998\n",
    "print(constants.mil)               #2.5399999999999997e-05\n",
    "print(constants.pt)                #0.00035277777777777776\n",
    "print(constants.point)             #0.00035277777777777776\n",
    "print(constants.survey_foot)       #0.3048006096012192\n",
    "print(constants.survey_mile)       #1609.3472186944373\n",
    "print(constants.nautical_mile)     #1852.0\n",
    "print(constants.fermi)             #1e-15\n",
    "print(constants.angstrom)          #1e-10\n",
    "print(constants.micron)            #1e-06\n",
    "print(constants.au)                #149597870691.0\n",
    "print(constants.astronomical_unit) #149597870691.0\n",
    "print(constants.light_year)        #9460730472580800.0\n",
    "print(constants.parsec)            #3.0856775813057292e+16 "
   ]
  },
  {
   "cell_type": "code",
   "execution_count": null,
   "id": "34c16479",
   "metadata": {},
   "outputs": [],
   "source": [
    "# pressure: (pascal)\n",
    "print(constants.atm)         #101325.0\n",
    "print(constants.atmosphere)  #101325.0\n",
    "print(constants.bar)         #100000.0\n",
    "print(constants.torr)        #133.32236842105263\n",
    "print(constants.mmHg)        #133.32236842105263\n",
    "print(constants.psi)         #6894.757293168361"
   ]
  },
  {
   "cell_type": "code",
   "execution_count": null,
   "id": "9f0b7144",
   "metadata": {},
   "outputs": [],
   "source": [
    "# Area:\n",
    "print(constants.hectare) #10000.0\n",
    "print(constants.acre)    #4046.8564223999992 "
   ]
  },
  {
   "cell_type": "code",
   "execution_count": null,
   "id": "5d919041",
   "metadata": {},
   "outputs": [],
   "source": [
    "# volume:\n",
    "print(constants.liter)            #0.001\n",
    "print(constants.litre)            #0.001\n",
    "print(constants.gallon)           #0.0037854117839999997\n",
    "print(constants.gallon_US)        #0.0037854117839999997\n",
    "print(constants.gallon_imp)       #0.00454609\n",
    "print(constants.fluid_ounce)      #2.9573529562499998e-05\n",
    "print(constants.fluid_ounce_US)   #2.9573529562499998e-05\n",
    "print(constants.fluid_ounce_imp)  #2.84130625e-05\n",
    "print(constants.barrel)           #0.15898729492799998\n",
    "print(constants.bbl)              #0.15898729492799998"
   ]
  },
  {
   "cell_type": "code",
   "execution_count": null,
   "id": "b0cc35a7",
   "metadata": {},
   "outputs": [],
   "source": [
    "# speed:\n",
    "print(constants.kmh)            #0.2777777777777778\n",
    "print(constants.mph)            #0.44703999999999994\n",
    "print(constants.mach)           #340.5\n",
    "print(constants.speed_of_sound) #340.5\n",
    "print(constants.knot)           #0.5144444444444445"
   ]
  },
  {
   "cell_type": "code",
   "execution_count": null,
   "id": "4ed312da",
   "metadata": {},
   "outputs": [],
   "source": [
    "# Temperature:\n",
    "print(constants.zero_Celsius)      #273.15\n",
    "print(constants.degree_Fahrenheit) #0.5555555555555556"
   ]
  },
  {
   "cell_type": "code",
   "execution_count": null,
   "id": "3d9ac139",
   "metadata": {},
   "outputs": [],
   "source": [
    "# Energy:\n",
    "print(constants.eV)            #1.6021766208e-19\n",
    "print(constants.electron_volt) #1.6021766208e-19\n",
    "print(constants.calorie)       #4.184\n",
    "print(constants.calorie_th)    #4.184\n",
    "print(constants.calorie_IT)    #4.1868\n",
    "print(constants.erg)           #1e-07\n",
    "print(constants.Btu)           #1055.05585262\n",
    "print(constants.Btu_IT)        #1055.05585262\n",
    "print(constants.Btu_th)        #1054.3502644888888\n",
    "print(constants.ton_TNT)       #4184000000.0 "
   ]
  },
  {
   "cell_type": "code",
   "execution_count": null,
   "id": "dcd674eb",
   "metadata": {},
   "outputs": [],
   "source": [
    "# power:\n",
    "\n",
    "print(constants.hp)         #745.6998715822701\n",
    "print(constants.horsepower) #745.6998715822701 "
   ]
  }
 ],
 "metadata": {
  "kernelspec": {
   "display_name": "Python 3",
   "language": "python",
   "name": "python3"
  },
  "language_info": {
   "codemirror_mode": {
    "name": "ipython",
    "version": 3
   },
   "file_extension": ".py",
   "mimetype": "text/x-python",
   "name": "python",
   "nbconvert_exporter": "python",
   "pygments_lexer": "ipython3",
   "version": "3.8.8"
  }
 },
 "nbformat": 4,
 "nbformat_minor": 5
}
