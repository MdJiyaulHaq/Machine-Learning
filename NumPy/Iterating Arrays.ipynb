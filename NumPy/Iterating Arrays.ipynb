{
 "cells": [
  {
   "cell_type": "markdown",
   "id": "e93cfe5d",
   "metadata": {},
   "source": [
    "iterating through any dimension array"
   ]
  },
  {
   "cell_type": "code",
   "execution_count": null,
   "id": "77251487",
   "metadata": {},
   "outputs": [],
   "source": [
    "import numpy as np"
   ]
  },
  {
   "cell_type": "code",
   "execution_count": null,
   "id": "f1afa658",
   "metadata": {},
   "outputs": [],
   "source": [
    "arr = np.array([[1, 2, 3], [4, 5, 6]])\n",
    "for x in arr:\n",
    "    print(x)"
   ]
  },
  {
   "cell_type": "markdown",
   "id": "1a27cafd",
   "metadata": {},
   "source": [
    "iterating on each scalar element of 1D array"
   ]
  },
  {
   "cell_type": "code",
   "execution_count": null,
   "id": "e85983cd",
   "metadata": {},
   "outputs": [],
   "source": [
    "arr = np.array([1, 2, 3, 4, 5, 6])\n",
    "for x in arr:\n",
    "    print(x)\n",
    "    \n",
    "    \n",
    "#alternatively\n",
    "for x in np.nditer(arr):\n",
    "    print(x)"
   ]
  },
  {
   "cell_type": "markdown",
   "id": "1bc71b86",
   "metadata": {},
   "source": [
    "iterating on each scalar element of 2D array"
   ]
  },
  {
   "cell_type": "code",
   "execution_count": null,
   "id": "05b82ad9",
   "metadata": {},
   "outputs": [],
   "source": [
    "arr = np.array([[1, 2, 3], [4, 5, 6]])\n",
    "for x in arr:\n",
    "    for y in x:\n",
    "        print(y)\n",
    "        \n",
    "    \n",
    "#alternatively\n",
    "for x in np.nditer(arr):\n",
    "    print(x)"
   ]
  },
  {
   "cell_type": "markdown",
   "id": "f789c42e",
   "metadata": {},
   "source": [
    "similarly for n-D "
   ]
  },
  {
   "cell_type": "markdown",
   "id": "ab58b7fe",
   "metadata": {},
   "source": [
    "We can use op_dtypes argument and pass it the expected datatype \n",
    "to change the datatype of elements while iterating.\n",
    "\n",
    "In nditer() we pass flags=['buffered']."
   ]
  },
  {
   "cell_type": "code",
   "execution_count": null,
   "id": "23c12904",
   "metadata": {},
   "outputs": [],
   "source": [
    "arr = np.array([[1, 2, 3], [4, 5, 6]])\n",
    "print(arr.dtype)\n",
    "for x in np.nditer(arr, flags=[\"buffered\"], op_dtypes=[\"S\"]):\n",
    "    print(x) # converts into string for printing purpose only\n",
    "\n",
    "print(arr.dtype)"
   ]
  },
  {
   "cell_type": "markdown",
   "id": "79434e9f",
   "metadata": {},
   "source": [
    "Iterating With Different Step Size"
   ]
  },
  {
   "cell_type": "code",
   "execution_count": null,
   "id": "f507fac6",
   "metadata": {},
   "outputs": [],
   "source": [
    "arr = np.array([[1, 2, 3], [4, 5, 6]])\n",
    "for x in np.nditer(arr[ : , : :2]): # this skips another elements\n",
    "    print(x)"
   ]
  },
  {
   "cell_type": "code",
   "execution_count": null,
   "id": "897d0ba8",
   "metadata": {},
   "outputs": [],
   "source": []
  }
 ],
 "metadata": {
  "kernelspec": {
   "display_name": "Python 3",
   "language": "python",
   "name": "python3"
  },
  "language_info": {
   "codemirror_mode": {
    "name": "ipython",
    "version": 3
   },
   "file_extension": ".py",
   "mimetype": "text/x-python",
   "name": "python",
   "nbconvert_exporter": "python",
   "pygments_lexer": "ipython3",
   "version": "3.8.8"
  }
 },
 "nbformat": 4,
 "nbformat_minor": 5
}
