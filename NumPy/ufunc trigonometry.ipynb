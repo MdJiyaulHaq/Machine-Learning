{
 "cells": [
  {
   "cell_type": "markdown",
   "id": "acb6d4c5",
   "metadata": {},
   "source": [
    "HCF is also refered to as  GCD greatest common denominator"
   ]
  },
  {
   "cell_type": "code",
   "execution_count": 9,
   "id": "89557d85",
   "metadata": {},
   "outputs": [
    {
     "name": "stdout",
     "output_type": "stream",
     "text": [
      "0.7071067811865475\n"
     ]
    }
   ],
   "source": [
    "import numpy as np\n",
    "\n",
    "x= np.sin(np.pi/4)\n",
    "print(x)"
   ]
  },
  {
   "cell_type": "code",
   "execution_count": 21,
   "id": "6219eadd",
   "metadata": {},
   "outputs": [
    {
     "name": "stdout",
     "output_type": "stream",
     "text": [
      "[1.22464680e-16 7.07106781e-01 1.00000000e+00 7.07106781e-01\n",
      " 0.00000000e+00]\n"
     ]
    }
   ],
   "source": [
    "arr= np.array([np.pi, 3*np.pi/4, np.pi/2, np.pi/4, np.pi*0])\n",
    "x=np.sin(arr)\n",
    "print(x)"
   ]
  },
  {
   "cell_type": "code",
   "execution_count": 22,
   "id": "fc1930e2",
   "metadata": {},
   "outputs": [],
   "source": [
    "# similary for cos, tan "
   ]
  },
  {
   "cell_type": "markdown",
   "id": "fc4b297f",
   "metadata": {},
   "source": [
    "# degree to radians"
   ]
  },
  {
   "cell_type": "code",
   "execution_count": 23,
   "id": "04878dbf",
   "metadata": {},
   "outputs": [
    {
     "name": "stdout",
     "output_type": "stream",
     "text": [
      "[0.52359878 0.78539816 1.57079633 2.35619449 3.14159265 6.28318531]\n"
     ]
    }
   ],
   "source": [
    "arr = np.array([30,45,90,135,180,360])\n",
    "x= np.deg2rad(arr) # and vice-versa\n",
    "print(x)"
   ]
  },
  {
   "cell_type": "markdown",
   "id": "443ba9b0",
   "metadata": {},
   "source": [
    "# trigonometric values back to radians"
   ]
  },
  {
   "cell_type": "code",
   "execution_count": 30,
   "id": "1b35686b",
   "metadata": {},
   "outputs": [
    {
     "name": "stdout",
     "output_type": "stream",
     "text": [
      "[0.38592306 0.80136427 0.01546211 0.82021202 0.81563866]\n"
     ]
    }
   ],
   "source": [
    "import numpy as np\n",
    "from numpy import random\n",
    "arr= np.random.rand(5)\n",
    "x=np.arcsin(arr)\n",
    "print(x)"
   ]
  },
  {
   "cell_type": "markdown",
   "id": "273aec27",
   "metadata": {},
   "source": [
    "finding hypotenues"
   ]
  },
  {
   "cell_type": "code",
   "execution_count": null,
   "id": "c3b127be",
   "metadata": {},
   "outputs": [],
   "source": [
    "x= np.hypot(3,)"
   ]
  }
 ],
 "metadata": {
  "kernelspec": {
   "display_name": "Python 3",
   "language": "python",
   "name": "python3"
  },
  "language_info": {
   "codemirror_mode": {
    "name": "ipython",
    "version": 3
   },
   "file_extension": ".py",
   "mimetype": "text/x-python",
   "name": "python",
   "nbconvert_exporter": "python",
   "pygments_lexer": "ipython3",
   "version": "3.8.8"
  }
 },
 "nbformat": 4,
 "nbformat_minor": 5
}
