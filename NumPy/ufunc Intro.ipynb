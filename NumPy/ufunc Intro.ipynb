{
 "cells": [
  {
   "cell_type": "markdown",
   "id": "3b644b71",
   "metadata": {},
   "source": [
    "# Why use ufuncs?"
   ]
  },
  {
   "cell_type": "markdown",
   "id": "fbbe8a3e",
   "metadata": {},
   "source": [
    "ufuncs are used to implement vectorization in NumPy which is way faster than iterating over elements.\n",
    "\n",
    "They also provide broadcasting and additional methods like reduce, accumulate etc. that are very helpful for computation.\n",
    "\n",
    "ufuncs also take additional arguments, like:\n",
    "\n",
    "where boolean array or condition defining where the operations should take place.\n",
    "\n",
    "dtype defining the return type of elements.\n",
    "\n",
    "out output array where the return value should be copied."
   ]
  },
  {
   "cell_type": "markdown",
   "id": "0be962bc",
   "metadata": {},
   "source": [
    "# What is Vectorization?"
   ]
  },
  {
   "cell_type": "markdown",
   "id": "1d48edee",
   "metadata": {},
   "source": [
    "Converting iterative statements into a vector based operation is called vectorization.\n",
    "\n",
    "It is faster as modern CPUs are optimized for such operations."
   ]
  },
  {
   "cell_type": "code",
   "execution_count": 36,
   "id": "23094e20",
   "metadata": {},
   "outputs": [
    {
     "data": {
      "text/plain": [
       "array([11,  6,  6, 13])"
      ]
     },
     "execution_count": 36,
     "metadata": {},
     "output_type": "execute_result"
    }
   ],
   "source": [
    "# add the elements of 2 lists\n",
    "\n",
    "import numpy as np\n",
    "\n",
    "l1=[3,2,1,7]\n",
    "l2=[8,4,5,6]\n",
    "l=np.add(l1, l2)\n",
    "l"
   ]
  },
  {
   "cell_type": "markdown",
   "id": "fe6a86c3",
   "metadata": {},
   "source": [
    "\n",
    "# without add function"
   ]
  },
  {
   "cell_type": "code",
   "execution_count": 39,
   "id": "fdb4db6c",
   "metadata": {},
   "outputs": [
    {
     "data": {
      "text/plain": [
       "[11, 6, 6, 13]"
      ]
     },
     "execution_count": 39,
     "metadata": {},
     "output_type": "execute_result"
    }
   ],
   "source": [
    "l1=[3,2,1,7]\n",
    "l2=[8,4,5,6]\n",
    "l=[]\n",
    "for i,j in zip(l1,l2):\n",
    "    l.append(i+j)\n",
    "\n",
    "l"
   ]
  },
  {
   "cell_type": "code",
   "execution_count": null,
   "id": "265447de",
   "metadata": {},
   "outputs": [],
   "source": []
  }
 ],
 "metadata": {
  "kernelspec": {
   "display_name": "Python 3",
   "language": "python",
   "name": "python3"
  },
  "language_info": {
   "codemirror_mode": {
    "name": "ipython",
    "version": 3
   },
   "file_extension": ".py",
   "mimetype": "text/x-python",
   "name": "python",
   "nbconvert_exporter": "python",
   "pygments_lexer": "ipython3",
   "version": "3.8.8"
  }
 },
 "nbformat": 4,
 "nbformat_minor": 5
}
