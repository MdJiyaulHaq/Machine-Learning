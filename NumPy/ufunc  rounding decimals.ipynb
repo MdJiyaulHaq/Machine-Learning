{
 "cells": [
  {
   "cell_type": "markdown",
   "id": "58beda51",
   "metadata": {},
   "source": [
    "There are primarily five ways of rounding off decimals in NumPy:\n",
    "\n",
    "    truncation\n",
    "    fix\n",
    "    rounding\n",
    "    floor\n",
    "    ceil\n"
   ]
  },
  {
   "cell_type": "code",
   "execution_count": 2,
   "id": "408cf7d1",
   "metadata": {},
   "outputs": [
    {
     "data": {
      "text/plain": [
       "array([-2.,  3.,  7.])"
      ]
     },
     "execution_count": 2,
     "metadata": {},
     "output_type": "execute_result"
    }
   ],
   "source": [
    "import numpy as np\n",
    "\n",
    "arr = np.trunc([-2.1, 3.4, 7.9])\n",
    "arr # Remove the decimals, and return the float number closest to zero\n",
    "\n",
    "\n",
    "arr = np.fix([-2.1, 3.4, 7.9])\n",
    "arr "
   ]
  },
  {
   "cell_type": "markdown",
   "id": "7bd0d6af",
   "metadata": {},
   "source": [
    "similarly,\n",
    " rounding, floor and ceil"
   ]
  },
  {
   "cell_type": "code",
   "execution_count": null,
   "id": "0240b2f5",
   "metadata": {},
   "outputs": [],
   "source": [
    "import numpy as np\n",
    "\n",
    "arr1 = np.around([4.4, 5.5, 6.6])\n",
    "arr2 = np.floor([3.2, 5.4, 6.9])\n",
    "arr3 = np.ceil([8.3, 2.9, 3.5])\n",
    "\n",
    "print(arr1)\n",
    "print(arr2)\n",
    "print(arr3)"
   ]
  }
 ],
 "metadata": {
  "kernelspec": {
   "display_name": "Python 3",
   "language": "python",
   "name": "python3"
  },
  "language_info": {
   "codemirror_mode": {
    "name": "ipython",
    "version": 3
   },
   "file_extension": ".py",
   "mimetype": "text/x-python",
   "name": "python",
   "nbconvert_exporter": "python",
   "pygments_lexer": "ipython3",
   "version": "3.8.8"
  }
 },
 "nbformat": 4,
 "nbformat_minor": 5
}
