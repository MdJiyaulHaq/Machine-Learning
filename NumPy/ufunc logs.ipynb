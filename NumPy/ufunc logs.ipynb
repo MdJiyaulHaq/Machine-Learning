{
 "cells": [
  {
   "cell_type": "markdown",
   "id": "dcbec774",
   "metadata": {},
   "source": [
    "# log "
   ]
  },
  {
   "cell_type": "markdown",
   "id": "d47645fd",
   "metadata": {},
   "source": [
    "NumPy provides functions to perform log at the base 2, e and 10.\n",
    "\n",
    "We will also explore how we can take log for any base by creating a custom ufunc.\n",
    "\n",
    "All of the log functions will place -inf or inf in the elements if the log can not be computed."
   ]
  },
  {
   "cell_type": "markdown",
   "id": "63ebb7e0",
   "metadata": {},
   "source": [
    "# log base 2"
   ]
  },
  {
   "cell_type": "code",
   "execution_count": null,
   "id": "5f48ad7c",
   "metadata": {},
   "outputs": [],
   "source": [
    "import numpy as np\n",
    "arr = np.arange(6)\n",
    "\n",
    "print(np.log2(arr)) # similarly , log , log10"
   ]
  },
  {
   "cell_type": "markdown",
   "id": "2bb3a77b",
   "metadata": {},
   "source": [
    "# log at any base"
   ]
  },
  {
   "cell_type": "markdown",
   "id": "ba50705b",
   "metadata": {},
   "source": [
    "NumPy does not provide any function to take log at any base, so we can use the frompyfunc() function along with inbuilt function math.log() with two input parameters and one output parameter:"
   ]
  },
  {
   "cell_type": "code",
   "execution_count": null,
   "id": "98886da1",
   "metadata": {},
   "outputs": [],
   "source": [
    "import numpy as np\n",
    "from math import log\n",
    "\n",
    "mylog = np.frompyfunc(log,2,1)# accessing log ufunc, 2 inputs , 1 output\n",
    "print(m)"
   ]
  }
 ],
 "metadata": {
  "kernelspec": {
   "display_name": "Python 3",
   "language": "python",
   "name": "python3"
  },
  "language_info": {
   "codemirror_mode": {
    "name": "ipython",
    "version": 3
   },
   "file_extension": ".py",
   "mimetype": "text/x-python",
   "name": "python",
   "nbconvert_exporter": "python",
   "pygments_lexer": "ipython3",
   "version": "3.8.8"
  }
 },
 "nbformat": 4,
 "nbformat_minor": 5
}
