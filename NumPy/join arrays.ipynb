{
 "cells": [
  {
   "cell_type": "code",
   "execution_count": null,
   "id": "ed050a56",
   "metadata": {},
   "outputs": [],
   "source": [
    "import numpy as np"
   ]
  },
  {
   "cell_type": "code",
   "execution_count": null,
   "id": "d94c613e",
   "metadata": {},
   "outputs": [],
   "source": [
    "arr1 = np.arange(1, 4)\n",
    "arr2 = np.arange(5, 9)\n",
    "\n",
    "arr = np.concatenate((arr1, arr2))\n",
    "arr"
   ]
  },
  {
   "cell_type": "markdown",
   "id": "57222c70",
   "metadata": {},
   "source": [
    "concatenate 2D array"
   ]
  },
  {
   "cell_type": "markdown",
   "id": "1d54ecde",
   "metadata": {},
   "source": [
    "along row  axis 1 "
   ]
  },
  {
   "cell_type": "code",
   "execution_count": null,
   "id": "96706085",
   "metadata": {},
   "outputs": [],
   "source": [
    "arr1 = np.array([[1, 4],[3,5]])\n",
    "arr2 = np.array([[5, 9],[3,5]])\n",
    "arr = np.concatenate((arr1, arr2),axis=1)\n",
    "arr"
   ]
  },
  {
   "cell_type": "markdown",
   "id": "c0e27214",
   "metadata": {},
   "source": [
    "# Joining Arrays Using Stack Functions"
   ]
  },
  {
   "cell_type": "code",
   "execution_count": null,
   "id": "e23dba11",
   "metadata": {},
   "outputs": [],
   "source": [
    "arr1 = np.arange(1,4)\n",
    "arr2 = np.arange(6,9)\n",
    "arr = np.stack((arr1, arr2), axis=1)\n",
    "arr # gives a 2D array"
   ]
  },
  {
   "cell_type": "markdown",
   "id": "e844ab59",
   "metadata": {},
   "source": [
    "along rows using (horizontal stack func)"
   ]
  },
  {
   "cell_type": "code",
   "execution_count": null,
   "id": "754271bb",
   "metadata": {},
   "outputs": [],
   "source": [
    "arr1 = np.arange(1,4)\n",
    "arr2 = np.arange(6,9)\n",
    "arr = np.hstack((arr1, arr2))\n",
    "arr # same like concatenation"
   ]
  },
  {
   "cell_type": "markdown",
   "id": "9e1188b0",
   "metadata": {},
   "source": [
    "along column using (vertical stack func)"
   ]
  },
  {
   "cell_type": "code",
   "execution_count": null,
   "id": "8a66ecf0",
   "metadata": {},
   "outputs": [],
   "source": [
    "arr1 = np.arange(1,4)\n",
    "arr2 = np.arange(6,9)\n",
    "arr = np.vstack((arr1, arr2))\n",
    "arr # returns 2D array"
   ]
  },
  {
   "cell_type": "markdown",
   "id": "3bc5cba6",
   "metadata": {},
   "source": [
    "along depth(height) using (depth stack func)"
   ]
  },
  {
   "cell_type": "code",
   "execution_count": null,
   "id": "7d1bafed",
   "metadata": {},
   "outputs": [],
   "source": [
    "arr1 = np.arange(1,4)\n",
    "arr2 = np.arange(6,9)\n",
    "arr = np.dstack((arr1, arr2))\n",
    "arr # returns 3D array"
   ]
  },
  {
   "cell_type": "code",
   "execution_count": null,
   "id": "fc287cce",
   "metadata": {},
   "outputs": [],
   "source": []
  }
 ],
 "metadata": {
  "kernelspec": {
   "display_name": "Python 3",
   "language": "python",
   "name": "python3"
  },
  "language_info": {
   "codemirror_mode": {
    "name": "ipython",
    "version": 3
   },
   "file_extension": ".py",
   "mimetype": "text/x-python",
   "name": "python",
   "nbconvert_exporter": "python",
   "pygments_lexer": "ipython3",
   "version": "3.8.8"
  }
 },
 "nbformat": 4,
 "nbformat_minor": 5
}
