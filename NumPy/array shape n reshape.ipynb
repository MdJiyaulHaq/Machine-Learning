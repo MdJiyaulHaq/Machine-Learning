{
 "cells": [
  {
   "cell_type": "markdown",
   "id": "754b83b5",
   "metadata": {},
   "source": [
    "## array shape in Numpy"
   ]
  },
  {
   "cell_type": "code",
   "execution_count": null,
   "id": "7b8bba4d",
   "metadata": {},
   "outputs": [],
   "source": [
    "import numpy as np"
   ]
  },
  {
   "cell_type": "code",
   "execution_count": null,
   "id": "29675925",
   "metadata": {},
   "outputs": [],
   "source": [
    "arr= np.array([7,8,6,9,2])\n",
    "print(arr.shape)"
   ]
  },
  {
   "cell_type": "code",
   "execution_count": null,
   "id": "88d7b162",
   "metadata": {},
   "outputs": [],
   "source": [
    "arr= np.array([[7,8,6,9,2],[2,9,6,8,7]])\n",
    "print(arr.shape)"
   ]
  },
  {
   "cell_type": "code",
   "execution_count": null,
   "id": "4751aee2",
   "metadata": {},
   "outputs": [],
   "source": [
    "arr= np.array([1,2,3,4], ndmin=4)\n",
    "print(arr.shape)"
   ]
  },
  {
   "cell_type": "markdown",
   "id": "314cbdd9",
   "metadata": {},
   "source": [
    "shape returns, how many elements are there in corresponding dimensions"
   ]
  },
  {
   "cell_type": "markdown",
   "id": "bcd820b9",
   "metadata": {},
   "source": [
    "## array reshape"
   ]
  },
  {
   "cell_type": "markdown",
   "id": "74be2f2b",
   "metadata": {},
   "source": [
    "reshape from 1D to 2D"
   ]
  },
  {
   "cell_type": "code",
   "execution_count": null,
   "id": "b0f23953",
   "metadata": {},
   "outputs": [],
   "source": [
    "arr = np.array([1, 2, 3, 4, 5, 6, 7, 8, 9, 8, 7,6,5,4,3,2])\n",
    "arr3= arr.reshape(4,4)\n",
    "print(arr3)\n",
    "arr4= arr.reshape(2,8)\n",
    "print(arr4)"
   ]
  },
  {
   "cell_type": "markdown",
   "id": "dee8183c",
   "metadata": {},
   "source": [
    "reshape from 1D to 3D"
   ]
  },
  {
   "cell_type": "code",
   "execution_count": null,
   "id": "d3c62278",
   "metadata": {},
   "outputs": [],
   "source": [
    "arr = np.array([0,1, 2, 3, 4, 5, 6, 7, 8, 9, 8, 7,6,5,4,3,2,1])\n",
    "arr2= arr.reshape(3,2,3)\n",
    "print(arr2)\n",
    "arr3=arr.reshape(6,1,3)\n",
    "print(arr3)"
   ]
  },
  {
   "cell_type": "markdown",
   "id": "4c65bd9c",
   "metadata": {},
   "source": [
    "unknown dimension"
   ]
  },
  {
   "cell_type": "code",
   "execution_count": null,
   "id": "e7a83169",
   "metadata": {},
   "outputs": [],
   "source": [
    "arr = np.array([0,1, 2, 3, 4, 5, 6, 7, 8, 9, 8, 7,6,5,4,3,2,1])\n",
    "\n",
    "arr2= arr.reshape(3,2,-1)\n",
    "print(arr2)\n",
    "print(arr2.shape)\n",
    "\n",
    "# no more than one -1 is accepted\n",
    "\n",
    "arr3=arr.reshape(6,1,-1)\n",
    "print(arr3)\n",
    "print(arr3.shape)\n",
    "\n",
    "# at the positions of -1 , python will calculate dimensions for you"
   ]
  },
  {
   "cell_type": "markdown",
   "id": "621409c4",
   "metadata": {},
   "source": [
    "reshape from any Dimension to 1D (also called flattening the arrays)"
   ]
  },
  {
   "cell_type": "code",
   "execution_count": null,
   "id": "152c7d13",
   "metadata": {},
   "outputs": [],
   "source": [
    "arr = np.array([[[0,1, 2, 3, 4, 5], [6, 7, 8, 9, 8, 7],[6,5,4,3,2,1]]])\n",
    "arr3=arr.reshape(-1)\n",
    "print(arr3)"
   ]
  }
 ],
 "metadata": {
  "kernelspec": {
   "display_name": "Python 3",
   "language": "python",
   "name": "python3"
  },
  "language_info": {
   "codemirror_mode": {
    "name": "ipython",
    "version": 3
   },
   "file_extension": ".py",
   "mimetype": "text/x-python",
   "name": "python",
   "nbconvert_exporter": "python",
   "pygments_lexer": "ipython3",
   "version": "3.8.8"
  }
 },
 "nbformat": 4,
 "nbformat_minor": 5
}
