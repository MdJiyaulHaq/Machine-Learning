{
 "cells": [
  {
   "cell_type": "code",
   "execution_count": 23,
   "id": "89557d85",
   "metadata": {},
   "outputs": [
    {
     "name": "stdout",
     "output_type": "stream",
     "text": [
      "20\n"
     ]
    }
   ],
   "source": [
    "import numpy as np\n",
    "\n",
    "num1= 5\n",
    "num2= 4\n",
    "\n",
    "x= np.lcm(num1,num2)\n",
    "print(x)"
   ]
  },
  {
   "cell_type": "markdown",
   "id": "bc2af391",
   "metadata": {},
   "source": [
    "# finding the LCM in arrays"
   ]
  },
  {
   "cell_type": "markdown",
   "id": "844c5a67",
   "metadata": {},
   "source": [
    "To find the Lowest Common Multiple of all values in an array, you can use the reduce() method.\n",
    "\n",
    "The reduce() method will use the ufunc, in this case the lcm() function, on each element, and reduce the array by one dimension."
   ]
  },
  {
   "cell_type": "code",
   "execution_count": 24,
   "id": "d862acc6",
   "metadata": {},
   "outputs": [
    {
     "name": "stdout",
     "output_type": "stream",
     "text": [
      "60\n"
     ]
    }
   ],
   "source": [
    "arr= np.arange(2,6)\n",
    "x = np.lcm.reduce(arr) # finds the lcm of 2,3,4,5\n",
    "print(x)"
   ]
  },
  {
   "cell_type": "code",
   "execution_count": null,
   "id": "af539db7",
   "metadata": {},
   "outputs": [],
   "source": []
  }
 ],
 "metadata": {
  "kernelspec": {
   "display_name": "Python 3",
   "language": "python",
   "name": "python3"
  },
  "language_info": {
   "codemirror_mode": {
    "name": "ipython",
    "version": 3
   },
   "file_extension": ".py",
   "mimetype": "text/x-python",
   "name": "python",
   "nbconvert_exporter": "python",
   "pygments_lexer": "ipython3",
   "version": "3.8.8"
  }
 },
 "nbformat": 4,
 "nbformat_minor": 5
}
