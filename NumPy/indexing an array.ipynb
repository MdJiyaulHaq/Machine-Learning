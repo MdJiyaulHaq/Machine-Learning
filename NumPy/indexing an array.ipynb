{
 "cells": [
  {
   "cell_type": "code",
   "execution_count": null,
   "id": "1f3f1f9c",
   "metadata": {},
   "outputs": [],
   "source": [
    "import numpy as np"
   ]
  },
  {
   "cell_type": "code",
   "execution_count": null,
   "id": "07118f46",
   "metadata": {},
   "outputs": [],
   "source": [
    "# acessing 0 or 1-D arrays\n",
    "arr = np.array([3, 8, 9, 7])\n",
    "print(arr[0])\n",
    "print(arr[2] + arr[3]) #  returns a sum of elements"
   ]
  },
  {
   "cell_type": "code",
   "execution_count": null,
   "id": "8a0018a3",
   "metadata": {},
   "outputs": [],
   "source": [
    "# accessing 2-D array\n",
    "arr2 = np.array([[1,2,3,4],[5,6,7,8]])\n",
    "print(arr2[1,3]) # accessing the element on 2nd row and 4th column\n",
    "print(arr2[0,2]) # accessing the element on 1st row and 3rd column"
   ]
  },
  {
   "cell_type": "code",
   "execution_count": null,
   "id": "4b3ae7de",
   "metadata": {},
   "outputs": [],
   "source": [
    "# acessing 3-D array\n",
    "arr3 = np.array([[[1, 2, 3], [4, 5, 6]], [[7, 8, 9], [10, 11, 12]]])\n",
    "print(arr3[0,1,2]) # the first integer indicates the dimension and the later the co-ordinates\n",
    "print(arr3[1,1,0]) # the first integer indicates the dimension and the later the co-ordinates\n"
   ]
  },
  {
   "cell_type": "code",
   "execution_count": null,
   "id": "22f46bb4",
   "metadata": {},
   "outputs": [],
   "source": [
    "# negative indexing is allowed in array\n",
    "arr2 = np.array([[1,2,3,4],[5,6,7,8]])\n",
    "print(arr2[1,-1])\n",
    "print(arr2[0,-2])"
   ]
  },
  {
   "cell_type": "code",
   "execution_count": null,
   "id": "1cc59142",
   "metadata": {},
   "outputs": [],
   "source": []
  }
 ],
 "metadata": {
  "kernelspec": {
   "display_name": "Python 3",
   "language": "python",
   "name": "python3"
  },
  "language_info": {
   "codemirror_mode": {
    "name": "ipython",
    "version": 3
   },
   "file_extension": ".py",
   "mimetype": "text/x-python",
   "name": "python",
   "nbconvert_exporter": "python",
   "pygments_lexer": "ipython3",
   "version": "3.8.8"
  }
 },
 "nbformat": 4,
 "nbformat_minor": 5
}
