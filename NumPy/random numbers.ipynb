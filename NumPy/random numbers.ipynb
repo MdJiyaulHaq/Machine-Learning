{
 "cells": [
  {
   "cell_type": "markdown",
   "id": "745e845e",
   "metadata": {},
   "source": [
    "numbers are not actually random. it is pseudo random."
   ]
  },
  {
   "cell_type": "code",
   "execution_count": null,
   "id": "d0c3d85c",
   "metadata": {},
   "outputs": [],
   "source": [
    "import numpy as np"
   ]
  },
  {
   "cell_type": "code",
   "execution_count": null,
   "id": "bf9fc330",
   "metadata": {},
   "outputs": [],
   "source": [
    "from numpy import random\n",
    "x=random.randint(44)\n",
    "\n",
    "print(x)"
   ]
  },
  {
   "cell_type": "markdown",
   "id": "413d7794",
   "metadata": {},
   "source": [
    "generating a random float between 0 and 1"
   ]
  },
  {
   "cell_type": "code",
   "execution_count": null,
   "id": "39c7a529",
   "metadata": {},
   "outputs": [],
   "source": [
    "x= random.rand()\n",
    "print(x)\n",
    "\n",
    "y= random.rand(4) # generates 4 random values between 0 and 1\n",
    "print(y)\n",
    "\n",
    "y= random.rand(4,3) # generates array contaning 4 rows and 3 columns, values between 0 and 1\n",
    "print(y)"
   ]
  },
  {
   "cell_type": "markdown",
   "id": "849c97c9",
   "metadata": {},
   "source": [
    "generating a random array"
   ]
  },
  {
   "cell_type": "code",
   "execution_count": null,
   "id": "e42940c7",
   "metadata": {},
   "outputs": [],
   "source": [
    "arr = random.randint(3, size=(4))\n",
    "arr"
   ]
  },
  {
   "cell_type": "code",
   "execution_count": null,
   "id": "11874ed2",
   "metadata": {},
   "outputs": [],
   "source": [
    "arr = random.randint(3,size=(3,4))\n",
    "arr"
   ]
  },
  {
   "cell_type": "markdown",
   "id": "e388c164",
   "metadata": {},
   "source": [
    "generate a random number from array"
   ]
  },
  {
   "cell_type": "code",
   "execution_count": null,
   "id": "b2f5e8b1",
   "metadata": {},
   "outputs": [],
   "source": [
    "import numpy as np\n",
    "x = random.choice([3,4,2,7,6])\n",
    "print(x)\n",
    "# alternatively\n",
    "arr = np.arange(8)\n",
    "print(random.choice(arr))"
   ]
  },
  {
   "cell_type": "code",
   "execution_count": null,
   "id": "9a03c43b",
   "metadata": {},
   "outputs": [],
   "source": [
    "arr = np.arange(8)\n",
    "print(random.choice(arr, size=(4))) # returns 1D array"
   ]
  },
  {
   "cell_type": "code",
   "execution_count": null,
   "id": "be4fc2ce",
   "metadata": {},
   "outputs": [],
   "source": [
    "arr = np.arange(8)\n",
    "print(random.choice(arr, size=(4,2))) # returns 2D array"
   ]
  },
  {
   "cell_type": "code",
   "execution_count": null,
   "id": "ff1456a1",
   "metadata": {},
   "outputs": [],
   "source": []
  }
 ],
 "metadata": {
  "kernelspec": {
   "display_name": "Python 3",
   "language": "python",
   "name": "python3"
  },
  "language_info": {
   "codemirror_mode": {
    "name": "ipython",
    "version": 3
   },
   "file_extension": ".py",
   "mimetype": "text/x-python",
   "name": "python",
   "nbconvert_exporter": "python",
   "pygments_lexer": "ipython3",
   "version": "3.8.8"
  }
 },
 "nbformat": 4,
 "nbformat_minor": 5
}
