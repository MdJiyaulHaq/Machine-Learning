{
 "cells": [
  {
   "cell_type": "markdown",
   "id": "745e845e",
   "metadata": {},
   "source": [
    "Getting some elements out of an existing array and creating a new array out of them is called filtering."
   ]
  },
  {
   "cell_type": "code",
   "execution_count": null,
   "id": "d0c3d85c",
   "metadata": {},
   "outputs": [],
   "source": [
    "import numpy as np"
   ]
  },
  {
   "cell_type": "code",
   "execution_count": null,
   "id": "bf9fc330",
   "metadata": {},
   "outputs": [],
   "source": [
    "arr2 = np.array([8,3,5,4,6])\n",
    "x = [True, True, False,True,False] # the True index is only selected\n",
    "newarr = arr2[x]\n",
    "print(newarr)"
   ]
  },
  {
   "cell_type": "markdown",
   "id": "413d7794",
   "metadata": {},
   "source": [
    "sorting a 2D array"
   ]
  },
  {
   "cell_type": "code",
   "execution_count": null,
   "id": "39c7a529",
   "metadata": {},
   "outputs": [],
   "source": [
    "arr = np.array([1,7,3,3,5,2,9,8,4])\n",
    "\n",
    "filter_arr=[]\n",
    "for x in arr:\n",
    "    if x>2:\n",
    "        filter_arr.append(True)\n",
    "    else:\n",
    "        filter_arr.append(False)\n",
    "\n",
    "      \n",
    "newarr = arr[filter_arr]\n",
    "print(arr)\n",
    "print(filter_arr)\n",
    "print(newarr)"
   ]
  },
  {
   "cell_type": "code",
   "execution_count": null,
   "id": "b16fca2b",
   "metadata": {},
   "outputs": [],
   "source": [
    "arr= np.arange(1,9)\n",
    "\n",
    "filter_arr=[]\n",
    "\n",
    "for x in arr:\n",
    "    if x%2==0:\n",
    "        filter_arr.append(True)\n",
    "    else:\n",
    "        filter_arr.append(False)\n",
    "\n",
    "        \n",
    "        \n",
    "newarr = arr[filter_arr]\n",
    "print(newarr)\n",
    "print(arr)\n",
    "print(filter_arr)"
   ]
  },
  {
   "cell_type": "markdown",
   "id": "849c97c9",
   "metadata": {},
   "source": [
    "# creating filter directly from array "
   ]
  },
  {
   "cell_type": "code",
   "execution_count": null,
   "id": "e42940c7",
   "metadata": {},
   "outputs": [],
   "source": [
    "arr = np.array([1,7,3,3,5,2,9,8,4])\n",
    "\n",
    "filter_arr= arr>3\n",
    "\n",
    "newarr=arr[filter_arr]\n",
    "newarr"
   ]
  },
  {
   "cell_type": "code",
   "execution_count": null,
   "id": "11874ed2",
   "metadata": {},
   "outputs": [],
   "source": [
    "arr = np.array([1,7,3,3,5,2,9,8,4])\n",
    "\n",
    "filter_arr= arr%2==1\n",
    "\n",
    "newarr=arr[filter_arr]\n",
    "newarr"
   ]
  },
  {
   "cell_type": "code",
   "execution_count": null,
   "id": "cf13851f",
   "metadata": {},
   "outputs": [],
   "source": []
  }
 ],
 "metadata": {
  "kernelspec": {
   "display_name": "Python 3",
   "language": "python",
   "name": "python3"
  },
  "language_info": {
   "codemirror_mode": {
    "name": "ipython",
    "version": 3
   },
   "file_extension": ".py",
   "mimetype": "text/x-python",
   "name": "python",
   "nbconvert_exporter": "python",
   "pygments_lexer": "ipython3",
   "version": "3.8.8"
  }
 },
 "nbformat": 4,
 "nbformat_minor": 5
}
