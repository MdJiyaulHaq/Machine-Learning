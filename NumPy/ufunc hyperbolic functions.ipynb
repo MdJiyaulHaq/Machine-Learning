{
 "cells": [
  {
   "cell_type": "code",
   "execution_count": null,
   "id": "89557d85",
   "metadata": {},
   "outputs": [],
   "source": [
    "import numpy as np\n",
    "\n",
    "x= np.sinh(np.pi/4)\n",
    "print(x)"
   ]
  },
  {
   "cell_type": "code",
   "execution_count": null,
   "id": "627c2f77",
   "metadata": {},
   "outputs": [],
   "source": [
    "arr= np.array([np.pi, 3*np.pi/4, np.pi/2, np.pi/4, np.pi*0])\n",
    "x=np.cosh(arr)\n",
    "print(x)"
   ]
  },
  {
   "cell_type": "code",
   "execution_count": null,
   "id": "2747a363",
   "metadata": {},
   "outputs": [],
   "source": [
    "# similary for cos, tan "
   ]
  },
  {
   "cell_type": "markdown",
   "id": "c9f29867",
   "metadata": {},
   "source": [
    "# inverse hyperbolic"
   ]
  },
  {
   "cell_type": "code",
   "execution_count": null,
   "id": "3b32036d",
   "metadata": {},
   "outputs": [],
   "source": [
    "import numpy as np\n",
    "from numpy import random\n",
    "arr= np.random.rand(5)\n",
    "x=np.arcsinh(arr)\n",
    "print(x)"
   ]
  }
 ],
 "metadata": {
  "kernelspec": {
   "display_name": "Python 3",
   "language": "python",
   "name": "python3"
  },
  "language_info": {
   "codemirror_mode": {
    "name": "ipython",
    "version": 3
   },
   "file_extension": ".py",
   "mimetype": "text/x-python",
   "name": "python",
   "nbconvert_exporter": "python",
   "pygments_lexer": "ipython3",
   "version": "3.8.8"
  }
 },
 "nbformat": 4,
 "nbformat_minor": 5
}
