{
 "cells": [
  {
   "cell_type": "markdown",
   "id": "e54688c6",
   "metadata": {},
   "source": [
    "# difference of elements of array"
   ]
  },
  {
   "cell_type": "markdown",
   "id": "e7284930",
   "metadata": {},
   "source": [
    "A discrete difference means subtracting two successive elements.\n",
    "\n",
    "E.g. for [1, 2, 3, 4], the discrete difference would be [2-1, 3-2, 4-3] = [1, 1, 1]\n",
    "\n",
    "To find the discrete difference, use the diff() function.\n"
   ]
  },
  {
   "cell_type": "code",
   "execution_count": 22,
   "id": "a78c0b5b",
   "metadata": {},
   "outputs": [
    {
     "name": "stdout",
     "output_type": "stream",
     "text": [
      "[-1  4  1 -3 -4 -1  6  3]\n",
      "[ -8  -1   3   4   4 -10]\n"
     ]
    }
   ],
   "source": [
    "import numpy as np\n",
    "arr = np.array([4,3,7,8,5,1,0,6,9])\n",
    "newarr = np.diff(arr) #  it even accepts frequency of this operation\n",
    "newarr2 = np.diff(arr, n=3) \n",
    "\n",
    "print(newarr)\n",
    "print(newarr2)"
   ]
  },
  {
   "cell_type": "code",
   "execution_count": 16,
   "id": "6b8d920a",
   "metadata": {},
   "outputs": [
    {
     "name": "stdout",
     "output_type": "stream",
     "text": [
      "806400\n"
     ]
    }
   ],
   "source": [
    "arr = np.arange(1,6)\n",
    "arr2 = np. arange(4,9)\n",
    "newarr = np.prod([arr,arr2]) # multiplies all elements of both arrays\n",
    "print(newarr)"
   ]
  },
  {
   "cell_type": "markdown",
   "id": "b12ce63d",
   "metadata": {},
   "source": [
    "# product via axis"
   ]
  },
  {
   "cell_type": "code",
   "execution_count": 17,
   "id": "6d4b22da",
   "metadata": {},
   "outputs": [
    {
     "name": "stdout",
     "output_type": "stream",
     "text": [
      "[ 120 6720]\n"
     ]
    }
   ],
   "source": [
    "arr = np.arange(1,6)\n",
    "arr2 = np. arange(4,9)\n",
    "newarr = np.prod([arr,arr2], axis= 1)\n",
    "print(newarr)"
   ]
  },
  {
   "cell_type": "markdown",
   "id": "cc901dd4",
   "metadata": {},
   "source": [
    "cummulative product"
   ]
  },
  {
   "cell_type": "code",
   "execution_count": 19,
   "id": "6949998f",
   "metadata": {},
   "outputs": [
    {
     "name": "stdout",
     "output_type": "stream",
     "text": [
      "[3 2 4]\n",
      "[ 3  6 24]\n"
     ]
    }
   ],
   "source": [
    "arr= np.array([3,1*2,4*1])\n",
    "print(arr) # this is not cummulative product\n",
    "newarr = np.cumprod(arr) # the elements goes on multiplying to preceeding one\n",
    "print(newarr)"
   ]
  },
  {
   "cell_type": "code",
   "execution_count": null,
   "id": "5c6d2a35",
   "metadata": {},
   "outputs": [],
   "source": []
  }
 ],
 "metadata": {
  "kernelspec": {
   "display_name": "Python 3",
   "language": "python",
   "name": "python3"
  },
  "language_info": {
   "codemirror_mode": {
    "name": "ipython",
    "version": 3
   },
   "file_extension": ".py",
   "mimetype": "text/x-python",
   "name": "python",
   "nbconvert_exporter": "python",
   "pygments_lexer": "ipython3",
   "version": "3.8.8"
  }
 },
 "nbformat": 4,
 "nbformat_minor": 5
}
