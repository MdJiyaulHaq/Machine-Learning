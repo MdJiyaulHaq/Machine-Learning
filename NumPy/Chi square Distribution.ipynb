{
 "cells": [
  {
   "cell_type": "markdown",
   "id": "3b644b71",
   "metadata": {},
   "source": [
    "Chi square distribution and its visualization"
   ]
  },
  {
   "cell_type": "markdown",
   "id": "c50a5d61",
   "metadata": {},
   "source": [
    "Chi Square distribution is used as a basis to verify the hypothesis.\n",
    "\n",
    "df - (degree of freedom)\n",
    "\n",
    "size - The shape of the returned array."
   ]
  },
  {
   "cell_type": "code",
   "execution_count": null,
   "id": "23094e20",
   "metadata": {},
   "outputs": [],
   "source": [
    "import numpy as np\n",
    "import matplotlib.pyplot as plt\n",
    "from numpy import random\n",
    "import seaborn as sns\n",
    "x= random.chisquare(scale=2,size=4)\n",
    "x"
   ]
  },
  {
   "cell_type": "code",
   "execution_count": null,
   "id": "91b443b2",
   "metadata": {},
   "outputs": [],
   "source": [
    "x= random.exponential(scale=3, size= (4,4))\n",
    "sns.distplot(x, hist=False, label=\"exp\")\n",
    "\n",
    "plt.show()"
   ]
  },
  {
   "cell_type": "markdown",
   "id": "d916d1b6",
   "metadata": {},
   "source": [
    "NOTE:\n",
    "     Poisson distribution deals with number of occurences of an event in a time period whereas exponential distribution deals with the time between these events."
   ]
  },
  {
   "cell_type": "code",
   "execution_count": null,
   "id": "82bf5a3d",
   "metadata": {},
   "outputs": [],
   "source": []
  }
 ],
 "metadata": {
  "kernelspec": {
   "display_name": "Python 3",
   "language": "python",
   "name": "python3"
  },
  "language_info": {
   "codemirror_mode": {
    "name": "ipython",
    "version": 3
   },
   "file_extension": ".py",
   "mimetype": "text/x-python",
   "name": "python",
   "nbconvert_exporter": "python",
   "pygments_lexer": "ipython3",
   "version": "3.8.8"
  }
 },
 "nbformat": 4,
 "nbformat_minor": 5
}
