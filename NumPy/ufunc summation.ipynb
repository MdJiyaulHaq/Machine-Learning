{
 "cells": [
  {
   "cell_type": "markdown",
   "id": "440c5f93",
   "metadata": {},
   "source": [
    "# addition vs summation "
   ]
  },
  {
   "cell_type": "code",
   "execution_count": 7,
   "id": "c839aa01",
   "metadata": {},
   "outputs": [
    {
     "name": "stdout",
     "output_type": "stream",
     "text": [
      "[ 5  7  9 11 13]\n"
     ]
    }
   ],
   "source": [
    "import numpy as np\n",
    "arr = np.arange(1,6)\n",
    "arr2 = np. arange(4,9)\n",
    "newarr = np.add(arr,arr2)\n",
    "print(newarr)"
   ]
  },
  {
   "cell_type": "code",
   "execution_count": 9,
   "id": "ad17b1f1",
   "metadata": {},
   "outputs": [
    {
     "name": "stdout",
     "output_type": "stream",
     "text": [
      "45\n"
     ]
    }
   ],
   "source": [
    "arr = np.arange(1,6)\n",
    "arr2 = np. arange(4,9)\n",
    "newarr = np.sum([arr,arr2])\n",
    "print(newarr)"
   ]
  },
  {
   "cell_type": "markdown",
   "id": "f6f92d43",
   "metadata": {},
   "source": [
    "# summation via axis"
   ]
  },
  {
   "cell_type": "code",
   "execution_count": 10,
   "id": "6720ec76",
   "metadata": {},
   "outputs": [
    {
     "name": "stdout",
     "output_type": "stream",
     "text": [
      "[15 30]\n"
     ]
    }
   ],
   "source": [
    "arr = np.arange(1,6)\n",
    "arr2 = np. arange(4,9)\n",
    "newarr = np.sum([arr,arr2], axis= 1)\n",
    "print(newarr)"
   ]
  },
  {
   "cell_type": "markdown",
   "id": "3a15b314",
   "metadata": {},
   "source": [
    "cummulative sum"
   ]
  },
  {
   "cell_type": "code",
   "execution_count": 12,
   "id": "34531eb7",
   "metadata": {},
   "outputs": [
    {
     "name": "stdout",
     "output_type": "stream",
     "text": [
      "[3 3 3]\n",
      "[3 6 9]\n"
     ]
    }
   ],
   "source": [
    "arr= np.array([3,2+1,5-2])\n",
    "print(arr) # this is not cummulative sum\n",
    "newarr = np.cumsum(arr) # the elements goes on summu\n",
    "print(newarr)"
   ]
  },
  {
   "cell_type": "code",
   "execution_count": null,
   "id": "38f2f20f",
   "metadata": {},
   "outputs": [],
   "source": []
  }
 ],
 "metadata": {
  "kernelspec": {
   "display_name": "Python 3",
   "language": "python",
   "name": "python3"
  },
  "language_info": {
   "codemirror_mode": {
    "name": "ipython",
    "version": 3
   },
   "file_extension": ".py",
   "mimetype": "text/x-python",
   "name": "python",
   "nbconvert_exporter": "python",
   "pygments_lexer": "ipython3",
   "version": "3.8.8"
  }
 },
 "nbformat": 4,
 "nbformat_minor": 5
}
