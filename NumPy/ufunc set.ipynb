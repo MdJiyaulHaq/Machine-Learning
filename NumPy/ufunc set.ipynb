{
 "cells": [
  {
   "cell_type": "markdown",
   "id": "16c0f147",
   "metadata": {},
   "source": [
    "convert array to set"
   ]
  },
  {
   "cell_type": "code",
   "execution_count": null,
   "id": "89557d85",
   "metadata": {},
   "outputs": [],
   "source": [
    "import numpy as np\n",
    "\n",
    "arr = np.array([4,4,3,5,2,1,6,7,3,5,6])\n",
    "myset = np.unique(arr) # returns array but with unique elements\n",
    "print(myset)\n",
    "print(type(myset))"
   ]
  },
  {
   "cell_type": "code",
   "execution_count": null,
   "id": "8c77d53e",
   "metadata": {},
   "outputs": [],
   "source": [
    "arr1= np.array([3,2,4,7,6,5,4]) # doesn't matter if element is repeated\n",
    "arr2= np.array([9,2,8,7,9,5])\n",
    "\n",
    "newarr = np.union1d(arr1,arr2) \n",
    "print(newarr)"
   ]
  },
  {
   "cell_type": "code",
   "execution_count": null,
   "id": "9ac9a6d5",
   "metadata": {},
   "outputs": [],
   "source": [
    "arr1= np.array([3,2,4,7,6,5,4]) \n",
    "arr2= np.array([9,2,8,7,9,5])\n",
    "\n",
    "newarr = np.intersect1d(arr1,arr2, assume_unique=True)\n",
    "# but good to include assume_unique=True\n",
    "print(newarr)"
   ]
  },
  {
   "cell_type": "markdown",
   "id": "29dd4736",
   "metadata": {},
   "source": [
    "finding the set differences"
   ]
  },
  {
   "cell_type": "code",
   "execution_count": null,
   "id": "56d6186d",
   "metadata": {},
   "outputs": [],
   "source": [
    "arr1= np.array([3,2,4,7,6,5,4])\n",
    "arr2= np.array([9,2,8,7,9,5])\n",
    "\n",
    "newarr = np.setdiff1d(arr1,arr2, assume_unique=) \n",
    "print(newarr)"
   ]
  }
 ],
 "metadata": {
  "kernelspec": {
   "display_name": "Python 3",
   "language": "python",
   "name": "python3"
  },
  "language_info": {
   "codemirror_mode": {
    "name": "ipython",
    "version": 3
   },
   "file_extension": ".py",
   "mimetype": "text/x-python",
   "name": "python",
   "nbconvert_exporter": "python",
   "pygments_lexer": "ipython3",
   "version": "3.8.8"
  }
 },
 "nbformat": 4,
 "nbformat_minor": 5
}
