{
 "cells": [
  {
   "cell_type": "markdown",
   "id": "24788400",
   "metadata": {},
   "source": [
    "# product of elements of array"
   ]
  },
  {
   "cell_type": "code",
   "execution_count": 15,
   "id": "da4501a3",
   "metadata": {},
   "outputs": [
    {
     "name": "stdout",
     "output_type": "stream",
     "text": [
      "720\n"
     ]
    }
   ],
   "source": [
    "import numpy as np\n",
    "arr = np.arange(1,7)\n",
    "newarr = np.prod(arr)\n",
    "print(newarr)"
   ]
  },
  {
   "cell_type": "code",
   "execution_count": 16,
   "id": "7d0591c9",
   "metadata": {},
   "outputs": [
    {
     "name": "stdout",
     "output_type": "stream",
     "text": [
      "806400\n"
     ]
    }
   ],
   "source": [
    "arr = np.arange(1,6)\n",
    "arr2 = np. arange(4,9)\n",
    "newarr = np.prod([arr,arr2]) # multiplies all elements of both arrays\n",
    "print(newarr)"
   ]
  },
  {
   "cell_type": "markdown",
   "id": "3008786c",
   "metadata": {},
   "source": [
    "# summation via axis"
   ]
  },
  {
   "cell_type": "code",
   "execution_count": 17,
   "id": "318e786e",
   "metadata": {},
   "outputs": [
    {
     "name": "stdout",
     "output_type": "stream",
     "text": [
      "[ 120 6720]\n"
     ]
    }
   ],
   "source": [
    "arr = np.arange(1,6)\n",
    "arr2 = np. arange(4,9)\n",
    "newarr = np.prod([arr,arr2], axis= 1)\n",
    "print(newarr)"
   ]
  },
  {
   "cell_type": "markdown",
   "id": "618d7b58",
   "metadata": {},
   "source": [
    "cummulative product"
   ]
  },
  {
   "cell_type": "code",
   "execution_count": 19,
   "id": "100e3aa4",
   "metadata": {},
   "outputs": [
    {
     "name": "stdout",
     "output_type": "stream",
     "text": [
      "[3 2 4]\n",
      "[ 3  6 24]\n"
     ]
    }
   ],
   "source": [
    "arr= np.array([3,1*2,4*1])\n",
    "print(arr) # this is not cummulative product\n",
    "newarr = np.cumprod(arr) # the elements goes on multiplying to preceeding one\n",
    "print(newarr)"
   ]
  },
  {
   "cell_type": "code",
   "execution_count": null,
   "id": "65f58f34",
   "metadata": {},
   "outputs": [],
   "source": []
  }
 ],
 "metadata": {
  "kernelspec": {
   "display_name": "Python 3",
   "language": "python",
   "name": "python3"
  },
  "language_info": {
   "codemirror_mode": {
    "name": "ipython",
    "version": 3
   },
   "file_extension": ".py",
   "mimetype": "text/x-python",
   "name": "python",
   "nbconvert_exporter": "python",
   "pygments_lexer": "ipython3",
   "version": "3.8.8"
  }
 },
 "nbformat": 4,
 "nbformat_minor": 5
}
