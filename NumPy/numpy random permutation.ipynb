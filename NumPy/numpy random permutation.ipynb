{
 "cells": [
  {
   "cell_type": "code",
   "execution_count": null,
   "id": "8c4c821f",
   "metadata": {},
   "outputs": [],
   "source": [
    "import numpy as np"
   ]
  },
  {
   "cell_type": "markdown",
   "id": "e057fcc5",
   "metadata": {},
   "source": [
    "Shuffling Arrays\n",
    "\n",
    "Shuffle means changing arrangement of elements in-place. i.e. in the array itself."
   ]
  },
  {
   "cell_type": "code",
   "execution_count": null,
   "id": "3193969b",
   "metadata": {},
   "outputs": [],
   "source": [
    "from numpy import random"
   ]
  },
  {
   "cell_type": "code",
   "execution_count": null,
   "id": "6eba458a",
   "metadata": {},
   "outputs": [],
   "source": [
    "arr= np.arange(7)\n",
    "random.shuffle(arr) # The shuffle() method makes changes to the original array.\n",
    "arr"
   ]
  },
  {
   "cell_type": "markdown",
   "id": "5c63d6f1",
   "metadata": {},
   "source": [
    "generating permutation of arrays"
   ]
  },
  {
   "cell_type": "code",
   "execution_count": null,
   "id": "d35451fc",
   "metadata": {},
   "outputs": [],
   "source": [
    "arr = np.arange(9)\n",
    "random.permutation(arr) # The permutation() method returns a re-arranged array\n",
    "# and leaves the original array un-changed."
   ]
  },
  {
   "cell_type": "code",
   "execution_count": null,
   "id": "fbd612a4",
   "metadata": {},
   "outputs": [],
   "source": []
  }
 ],
 "metadata": {
  "kernelspec": {
   "display_name": "Python 3",
   "language": "python",
   "name": "python3"
  },
  "language_info": {
   "codemirror_mode": {
    "name": "ipython",
    "version": 3
   },
   "file_extension": ".py",
   "mimetype": "text/x-python",
   "name": "python",
   "nbconvert_exporter": "python",
   "pygments_lexer": "ipython3",
   "version": "3.8.8"
  }
 },
 "nbformat": 4,
 "nbformat_minor": 5
}
