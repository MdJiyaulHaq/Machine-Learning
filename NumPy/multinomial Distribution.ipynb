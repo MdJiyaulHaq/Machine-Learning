{
 "cells": [
  {
   "cell_type": "markdown",
   "id": "3b644b71",
   "metadata": {},
   "source": [
    "multinomial distribution and its visualization"
   ]
  },
  {
   "cell_type": "markdown",
   "id": "f0e97dc4",
   "metadata": {},
   "source": [
    "Multinomial distribution is a generalization of binomial distribution."
   ]
  },
  {
   "cell_type": "code",
   "execution_count": 8,
   "id": "23094e20",
   "metadata": {},
   "outputs": [
    {
     "data": {
      "text/plain": [
       "array([1, 1])"
      ]
     },
     "execution_count": 8,
     "metadata": {},
     "output_type": "execute_result"
    }
   ],
   "source": [
    "import numpy as np\n",
    "import matplotlib.pyplot as plt\n",
    "from numpy import random\n",
    "import seaborn as sns\n",
    "# for a coin flip\n",
    "x= random.multinomial(n= 2, pvals = [1/2,1/2])\n",
    "x"
   ]
  },
  {
   "cell_type": "markdown",
   "id": "2d0b2102",
   "metadata": {},
   "source": [
    "Note: Multinomial samples will NOT produce a single value! They will produce one value for each pval."
   ]
  },
  {
   "cell_type": "markdown",
   "id": "9a3bbd08",
   "metadata": {},
   "source": [
    "Note: As they are generalization of binomial distribution their visual representation and similarity of normal distribution is same as that of multiple binomial distributions."
   ]
  },
  {
   "cell_type": "code",
   "execution_count": null,
   "id": "91b443b2",
   "metadata": {},
   "outputs": [],
   "source": [
    "#  outcome of a dice rolled\n",
    "x= random.multinomial(n=6, pvals=[1/6,1/6,1/6,1/6/1/6,1/6], size=4)\n",
    "sns.distplot(y, hist=False, label=\"\")\n",
    "\n",
    "plt.show()"
   ]
  },
  {
   "cell_type": "code",
   "execution_count": null,
   "id": "425b8326",
   "metadata": {},
   "outputs": [],
   "source": []
  }
 ],
 "metadata": {
  "kernelspec": {
   "display_name": "Python 3",
   "language": "python",
   "name": "python3"
  },
  "language_info": {
   "codemirror_mode": {
    "name": "ipython",
    "version": 3
   },
   "file_extension": ".py",
   "mimetype": "text/x-python",
   "name": "python",
   "nbconvert_exporter": "python",
   "pygments_lexer": "ipython3",
   "version": "3.8.8"
  }
 },
 "nbformat": 4,
 "nbformat_minor": 5
}
