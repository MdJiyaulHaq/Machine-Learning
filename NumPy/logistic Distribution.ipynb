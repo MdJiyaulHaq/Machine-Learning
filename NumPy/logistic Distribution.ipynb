{
 "cells": [
  {
   "cell_type": "markdown",
   "id": "3b644b71",
   "metadata": {},
   "source": [
    "uniform distribution and its visualization"
   ]
  },
  {
   "cell_type": "markdown",
   "id": "f0e97dc4",
   "metadata": {},
   "source": [
    "Logistic Distribution is used to describe growth.\n",
    "\n",
    "Used extensively in machine learning in logistic regression, neural networks etc."
   ]
  },
  {
   "cell_type": "code",
   "execution_count": null,
   "id": "23094e20",
   "metadata": {},
   "outputs": [],
   "source": [
    "import numpy as np\n",
    "import matplotlib.pyplot as plt\n",
    "from numpy import random\n",
    "import seaborn as sns\n",
    "\n",
    "x= random.logistic(loc= 1, scale = 2, size=(4,9))\n",
    "sns.distplot(x, hist= False)\n",
    "plt.show()"
   ]
  },
  {
   "cell_type": "markdown",
   "id": "b8f4c0c5",
   "metadata": {},
   "source": [
    "For higher value of scale (standard deviation) the normal and logistic distributions are near identical apart from the peak."
   ]
  },
  {
   "cell_type": "code",
   "execution_count": null,
   "id": "91b443b2",
   "metadata": {},
   "outputs": [],
   "source": [
    "x= random.normal(loc=2, scale=400, size=(14,8))\n",
    "y= random.logistic(loc=2, scale=400, size=(14,8))\n",
    "sns.distplot(x, hist=False, label=\"normal\")\n",
    "sns.distplot(y, hist=False, label=\"logistic\")\n",
    "\n",
    "plt.show()"
   ]
  },
  {
   "cell_type": "code",
   "execution_count": null,
   "id": "c09a5faf",
   "metadata": {},
   "outputs": [],
   "source": []
  }
 ],
 "metadata": {
  "kernelspec": {
   "display_name": "Python 3",
   "language": "python",
   "name": "python3"
  },
  "language_info": {
   "codemirror_mode": {
    "name": "ipython",
    "version": 3
   },
   "file_extension": ".py",
   "mimetype": "text/x-python",
   "name": "python",
   "nbconvert_exporter": "python",
   "pygments_lexer": "ipython3",
   "version": "3.8.8"
  }
 },
 "nbformat": 4,
 "nbformat_minor": 5
}
