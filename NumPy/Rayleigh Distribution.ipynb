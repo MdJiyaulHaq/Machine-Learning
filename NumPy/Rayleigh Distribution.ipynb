{
 "cells": [
  {
   "cell_type": "markdown",
   "id": "3b644b71",
   "metadata": {},
   "source": [
    "Rayleigh distribution and its visualization"
   ]
  },
  {
   "cell_type": "markdown",
   "id": "ff7eb5c8",
   "metadata": {},
   "source": [
    "Rayleigh distribution is used in signal processing.\n",
    "\n",
    "scale - (standard deviation) decides how flat the distribution will be default 1.0).\n",
    "\n",
    "size - The shape of the returned array."
   ]
  },
  {
   "cell_type": "code",
   "execution_count": null,
   "id": "23094e20",
   "metadata": {},
   "outputs": [],
   "source": [
    "import numpy as np\n",
    "import matplotlib.pyplot as plt\n",
    "from numpy import random\n",
    "import seaborn as sns\n",
    "x= random.rayleigh(scale=2,size=3)\n",
    "x"
   ]
  },
  {
   "cell_type": "code",
   "execution_count": null,
   "id": "91b443b2",
   "metadata": {},
   "outputs": [],
   "source": [
    "x= random.rayleigh(scale=3, size= (4,4))\n",
    "sns.distplot(x, hist=False, label=\"Chi\")\n",
    "\n",
    "plt.show()"
   ]
  },
  {
   "cell_type": "markdown",
   "id": "d1985db4",
   "metadata": {},
   "source": [
    "# relation of rayleigh and Chi"
   ]
  },
  {
   "cell_type": "markdown",
   "id": "d749fd89",
   "metadata": {},
   "source": [
    " At unit std. deviation the and 2 degrees of freedom rayleigh and chi square\n",
    "    represent the same distributions. "
   ]
  },
  {
   "cell_type": "code",
   "execution_count": null,
   "id": "8e6f91ac",
   "metadata": {},
   "outputs": [],
   "source": [
    "x= random.rayleigh( size= 4)\n",
    "y= random.chisquare(df=2, size=4)\n",
    "sns.distplot(x, hist=False, label=\"rayleigh\")\n",
    "sns.distplot(y,hist=False,label=\"chi\")\n",
    "\n",
    "plt.show()"
   ]
  },
  {
   "cell_type": "code",
   "execution_count": null,
   "id": "9e2e4c7f",
   "metadata": {},
   "outputs": [],
   "source": []
  }
 ],
 "metadata": {
  "kernelspec": {
   "display_name": "Python 3",
   "language": "python",
   "name": "python3"
  },
  "language_info": {
   "codemirror_mode": {
    "name": "ipython",
    "version": 3
   },
   "file_extension": ".py",
   "mimetype": "text/x-python",
   "name": "python",
   "nbconvert_exporter": "python",
   "pygments_lexer": "ipython3",
   "version": "3.8.8"
  }
 },
 "nbformat": 4,
 "nbformat_minor": 5
}
