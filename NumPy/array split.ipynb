{
 "cells": [
  {
   "cell_type": "code",
   "execution_count": null,
   "id": "127cc9c4",
   "metadata": {},
   "outputs": [],
   "source": [
    "import numpy as np"
   ]
  },
  {
   "cell_type": "code",
   "execution_count": null,
   "id": "11c73879",
   "metadata": {},
   "outputs": [],
   "source": [
    "arr= np.arange(1,9)\n",
    "arr2= np.array_split(arr,3)\n",
    "print(arr2) # acessing all the arrays at once\n",
    "print(arr2[0]) # acessing arrays one by one\n",
    "print(arr2[1])\n",
    "print(arr2[2])"
   ]
  },
  {
   "cell_type": "markdown",
   "id": "791cf910",
   "metadata": {},
   "source": [
    "splitting 2D array"
   ]
  },
  {
   "cell_type": "code",
   "execution_count": null,
   "id": "d8b3a663",
   "metadata": {},
   "outputs": [],
   "source": [
    "arr = np.array([[1, 2], [3, 4], [5, 6], [7, 8], [9, 10], [11, 12]])\n",
    "arr2= np.array_split(arr, 4)\n",
    "arr2 # returns 2D array"
   ]
  },
  {
   "cell_type": "markdown",
   "id": "b194d96f",
   "metadata": {},
   "source": [
    "splitting along axis"
   ]
  },
  {
   "cell_type": "code",
   "execution_count": null,
   "id": "8187f938",
   "metadata": {},
   "outputs": [],
   "source": [
    "arr = np.array([[1, 2], [3, 4], [5, 6], [7, 8], [9, 10], [11, 12]])\n",
    "arr2= np.array_split(arr, 2, axis=1) # alternative to hsplit().\n",
    "arr2 # returns 2D array"
   ]
  },
  {
   "cell_type": "code",
   "execution_count": null,
   "id": "3673c747",
   "metadata": {},
   "outputs": [],
   "source": [
    "arr = np.array([[1, 2], [3, 4], [5, 6], [7, 8], [9, 10], [11, 12]])\n",
    "arr2= np.vsplit(arr, 2) # vsplit() is opposite to vstack()\n",
    "arr2 # returns 2D array"
   ]
  },
  {
   "cell_type": "markdown",
   "id": "906b9ad3",
   "metadata": {},
   "source": [
    "Note: Similar alternates to vstack(), hstack() and dstack() are available as vsplit(), hsplit() and dsplit()."
   ]
  },
  {
   "cell_type": "code",
   "execution_count": null,
   "id": "6f77cf18",
   "metadata": {},
   "outputs": [],
   "source": []
  }
 ],
 "metadata": {
  "kernelspec": {
   "display_name": "Python 3",
   "language": "python",
   "name": "python3"
  },
  "language_info": {
   "codemirror_mode": {
    "name": "ipython",
    "version": 3
   },
   "file_extension": ".py",
   "mimetype": "text/x-python",
   "name": "python",
   "nbconvert_exporter": "python",
   "pygments_lexer": "ipython3",
   "version": "3.8.8"
  }
 },
 "nbformat": 4,
 "nbformat_minor": 5
}
