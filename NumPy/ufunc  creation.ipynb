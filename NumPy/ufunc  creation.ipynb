{
 "cells": [
  {
   "cell_type": "markdown",
   "id": "3b644b71",
   "metadata": {},
   "source": [
    "# how to "
   ]
  },
  {
   "cell_type": "markdown",
   "id": "ec829864",
   "metadata": {},
   "source": [
    " create you own ufunc, you have to define a function, like you do with normal functions in Python, then you add it to your NumPy ufunc library with the frompyfunc() method.\n",
    "\n",
    "The frompyfunc() method takes the following arguments:\n",
    "\n",
    "    function - the name of the function.\n",
    "    inputs - the number of input arguments (arrays).\n",
    "    outputs - the number of output arrays.\n"
   ]
  },
  {
   "cell_type": "code",
   "execution_count": 45,
   "id": "4a57eb51",
   "metadata": {},
   "outputs": [
    {
     "name": "stdout",
     "output_type": "stream",
     "text": [
      "[9 10]\n"
     ]
    }
   ],
   "source": [
    "# creating a function\n",
    "import numpy as np\n",
    "\n",
    "def my_add(a,b,c):\n",
    "    return a+b+c\n",
    "\n",
    "my_add = np.frompyfunc(my_add, 3, 1)\n",
    "print(my_add([1,4],[2,1],[6,5]))"
   ]
  },
  {
   "cell_type": "code",
   "execution_count": 48,
   "id": "331cd939",
   "metadata": {},
   "outputs": [
    {
     "name": "stdout",
     "output_type": "stream",
     "text": [
      "<class 'numpy.ufunc'>\n"
     ]
    }
   ],
   "source": [
    "# check if the func is ufunc or not\n",
    "import numpy as np\n",
    "print(type(np.add))"
   ]
  },
  {
   "cell_type": "code",
   "execution_count": null,
   "id": "6d747d0b",
   "metadata": {},
   "outputs": [],
   "source": [
    "# other way\n"
   ]
  }
 ],
 "metadata": {
  "kernelspec": {
   "display_name": "Python 3",
   "language": "python",
   "name": "python3"
  },
  "language_info": {
   "codemirror_mode": {
    "name": "ipython",
    "version": 3
   },
   "file_extension": ".py",
   "mimetype": "text/x-python",
   "name": "python",
   "nbconvert_exporter": "python",
   "pygments_lexer": "ipython3",
   "version": "3.8.8"
  }
 },
 "nbformat": 4,
 "nbformat_minor": 5
}
