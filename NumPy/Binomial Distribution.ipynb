{
 "cells": [
  {
   "cell_type": "markdown",
   "id": "3b644b71",
   "metadata": {},
   "source": [
    "binomial distribution and its visualization"
   ]
  },
  {
   "cell_type": "code",
   "execution_count": null,
   "id": "23094e20",
   "metadata": {},
   "outputs": [],
   "source": [
    "import numpy as np\n",
    "import matplotlib.pyplot as plt\n",
    "from numpy import random\n",
    "import seaborn as sns\n",
    "# a bulb has probability of 4% defect\n",
    "x= random.binomial(n=44, p=.04, size=444)\n",
    "sns.distplot(x, kde=False)\n",
    "plt.show()"
   ]
  },
  {
   "cell_type": "code",
   "execution_count": null,
   "id": "b21f477a",
   "metadata": {},
   "outputs": [],
   "source": [
    "x = random.normal(loc=33, scale=4, size= 99)\n",
    "y = random.binomial(n=77, p=.44, size= 99)\n",
    "sns.distplot(x, hist=False, label=\"normal\")\n",
    "sns.distplot(y, hist=False, label=\"binomial\")\n",
    "# in this case both the curves looks alike"
   ]
  },
  {
   "cell_type": "code",
   "execution_count": null,
   "id": "225d3aaf",
   "metadata": {},
   "outputs": [],
   "source": []
  }
 ],
 "metadata": {
  "kernelspec": {
   "display_name": "Python 3",
   "language": "python",
   "name": "python3"
  },
  "language_info": {
   "codemirror_mode": {
    "name": "ipython",
    "version": 3
   },
   "file_extension": ".py",
   "mimetype": "text/x-python",
   "name": "python",
   "nbconvert_exporter": "python",
   "pygments_lexer": "ipython3",
   "version": "3.8.8"
  }
 },
 "nbformat": 4,
 "nbformat_minor": 5
}
