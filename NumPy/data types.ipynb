{
 "cells": [
  {
   "cell_type": "markdown",
   "id": "a75b13a2",
   "metadata": {},
   "source": [
    "## data types in numpy"
   ]
  },
  {
   "cell_type": "code",
   "execution_count": null,
   "id": "d764e195",
   "metadata": {},
   "outputs": [],
   "source": [
    "import numpy as np"
   ]
  },
  {
   "cell_type": "code",
   "execution_count": null,
   "id": "1e89822f",
   "metadata": {},
   "outputs": [],
   "source": [
    "arr= np.array([7,8,6,9,2])\n",
    "arr2 = np.array(['apple', 'banana', 'cherry'])\n",
    "print(arr)\n",
    "print(arr.dtype)\n",
    "print(arr2)\n",
    "print(arr2.dtype)"
   ]
  },
  {
   "cell_type": "markdown",
   "id": "c94c0f30",
   "metadata": {},
   "source": [
    " creating an array with defined data type"
   ]
  },
  {
   "cell_type": "code",
   "execution_count": null,
   "id": "1ca3f4e6",
   "metadata": {},
   "outputs": [],
   "source": [
    "arr= np.array([7,8,6,9,2], dtype=\"S\")\n",
    "print(arr)\n",
    "print(arr.dtype)"
   ]
  },
  {
   "cell_type": "code",
   "execution_count": null,
   "id": "87e85402",
   "metadata": {},
   "outputs": [],
   "source": [
    "arr= np.array([7,8,6,9,2], dtype=\"i4\") # integer of 4 bytes\n",
    "print(arr)\n",
    "print(arr.dtype)"
   ]
  },
  {
   "cell_type": "markdown",
   "id": "76565adb",
   "metadata": {},
   "source": [
    "*** a non-convertible value will throw an error of course ***"
   ]
  },
  {
   "cell_type": "code",
   "execution_count": null,
   "id": "9962e43b",
   "metadata": {},
   "outputs": [],
   "source": [
    "arr = np.array(['apple', 'banana', 'cherry'], dtype=\"i\")"
   ]
  },
  {
   "cell_type": "markdown",
   "id": "667e78a7",
   "metadata": {},
   "source": [
    "data type conversion"
   ]
  },
  {
   "cell_type": "code",
   "execution_count": null,
   "id": "fa0819a2",
   "metadata": {},
   "outputs": [],
   "source": [
    "arr= np.array([0,7,8,6,9,2,0])\n",
    "arr7= arr.astype(\"f\")\n",
    "arr8= arr.astype(float)\n",
    "print(arr7)\n",
    "print(arr7.dtype)\n",
    "print(arr8)\n",
    "print(arr8.dtype)\n",
    "arr9= arr.astype(bool)\n",
    "print(arr9)\n",
    "print(arr9.dtype)"
   ]
  },
  {
   "cell_type": "markdown",
   "id": "0ba56bef",
   "metadata": {},
   "source": [
    "copy vs view"
   ]
  },
  {
   "cell_type": "code",
   "execution_count": null,
   "id": "130e355c",
   "metadata": {},
   "outputs": [],
   "source": [
    "arr = np.array([1, 2, 3, 4, 5])\n",
    "cpy = arr.copy()\n",
    "arr[3] = 8\n",
    "\n",
    "print(arr) # no changes will occur in the oringinal array\n",
    "print(cpy) "
   ]
  },
  {
   "cell_type": "code",
   "execution_count": null,
   "id": "7b386d49",
   "metadata": {},
   "outputs": [],
   "source": [
    "arr = np.array([1, 2, 3, 4, 5])\n",
    "vw = arr.view()\n",
    "arr[0] = 0\n",
    "\n",
    "print(arr)\n",
    "print(vw) "
   ]
  }
 ],
 "metadata": {
  "kernelspec": {
   "display_name": "Python 3",
   "language": "python",
   "name": "python3"
  },
  "language_info": {
   "codemirror_mode": {
    "name": "ipython",
    "version": 3
   },
   "file_extension": ".py",
   "mimetype": "text/x-python",
   "name": "python",
   "nbconvert_exporter": "python",
   "pygments_lexer": "ipython3",
   "version": "3.8.8"
  }
 },
 "nbformat": 4,
 "nbformat_minor": 5
}
