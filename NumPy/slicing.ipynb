{
 "cells": [
  {
   "cell_type": "code",
   "execution_count": null,
   "id": "055b3281",
   "metadata": {},
   "outputs": [],
   "source": [
    "# slicing one dimension array is easy"
   ]
  },
  {
   "cell_type": "code",
   "execution_count": null,
   "id": "4dd8b30f",
   "metadata": {},
   "outputs": [],
   "source": [
    "# slicing of 2-D array\n",
    "import numpy as np \n",
    "arr = np.array([[1,2,3,4],[5,6,7,8]])\n",
    "print(arr[1, 0:3])\n",
    "print(arr[0:3, 1]) # From both elements, return index 2\n",
    "print(arr[0:2, 1:4]) # returns 2D array. index 0 and 1 and elements 1,2,3 from both"
   ]
  }
 ],
 "metadata": {
  "kernelspec": {
   "display_name": "Python 3",
   "language": "python",
   "name": "python3"
  },
  "language_info": {
   "codemirror_mode": {
    "name": "ipython",
    "version": 3
   },
   "file_extension": ".py",
   "mimetype": "text/x-python",
   "name": "python",
   "nbconvert_exporter": "python",
   "pygments_lexer": "ipython3",
   "version": "3.8.8"
  }
 },
 "nbformat": 4,
 "nbformat_minor": 5
}
