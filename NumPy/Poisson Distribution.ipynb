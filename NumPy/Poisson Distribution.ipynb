{
 "cells": [
  {
   "cell_type": "markdown",
   "id": "3b644b71",
   "metadata": {},
   "source": [
    "poisson distribution and its visualization"
   ]
  },
  {
   "cell_type": "code",
   "execution_count": null,
   "id": "23094e20",
   "metadata": {},
   "outputs": [],
   "source": [
    "import numpy as np\n",
    "import matplotlib.pyplot as plt\n",
    "from numpy import random\n",
    "import seaborn as sns\n",
    "# probability of a man sleeping 7 hrs , given he sleeps 10 hrs a day\n",
    "x= random.poisson(lam= 10, size=8)\n",
    "sns.distplot(x)\n",
    "plt.show()"
   ]
  },
  {
   "cell_type": "markdown",
   "id": "f2367c84",
   "metadata": {},
   "source": [
    "for larger size, it too behave like normal distribution like binomial does."
   ]
  },
  {
   "cell_type": "code",
   "execution_count": null,
   "id": "c1922b4d",
   "metadata": {},
   "outputs": [],
   "source": [
    "x= random.poisson(lam= 44, size=999)\n",
    "y = random.normal(loc= 44, size=999, scale=6)\n",
    "sns.distplot(x)\n",
    "sns.distplot(y)\n",
    "plt.show()"
   ]
  },
  {
   "cell_type": "markdown",
   "id": "a4b31f7c",
   "metadata": {},
   "source": [
    "For very large n and near-zero p binomial distribution \n",
    "is near identical to poisson distribution\n",
    "such that n * p is nearly equal to lam."
   ]
  },
  {
   "cell_type": "code",
   "execution_count": null,
   "id": "96ad9ec4",
   "metadata": {},
   "outputs": [],
   "source": [
    "x= random.poisson(lam= 44, size=999)\n",
    "y = random.binomial(n= 44000, p=.001, size=4400)\n",
    "sns.distplot(x)\n",
    "sns.distplot(y)\n",
    "plt.show()"
   ]
  },
  {
   "cell_type": "code",
   "execution_count": null,
   "id": "cc996ef2",
   "metadata": {},
   "outputs": [],
   "source": []
  }
 ],
 "metadata": {
  "kernelspec": {
   "display_name": "Python 3",
   "language": "python",
   "name": "python3"
  },
  "language_info": {
   "codemirror_mode": {
    "name": "ipython",
    "version": 3
   },
   "file_extension": ".py",
   "mimetype": "text/x-python",
   "name": "python",
   "nbconvert_exporter": "python",
   "pygments_lexer": "ipython3",
   "version": "3.8.8"
  }
 },
 "nbformat": 4,
 "nbformat_minor": 5
}
