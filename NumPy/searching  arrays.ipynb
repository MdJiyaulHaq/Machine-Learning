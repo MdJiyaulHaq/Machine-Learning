{
 "cells": [
  {
   "cell_type": "code",
   "execution_count": null,
   "id": "d0c3d85c",
   "metadata": {},
   "outputs": [],
   "source": [
    "import numpy as np"
   ]
  },
  {
   "cell_type": "code",
   "execution_count": null,
   "id": "801b2030",
   "metadata": {},
   "outputs": [],
   "source": [
    "arr = np.arange(781, 791)\n",
    "x = np.where(arr==786)\n",
    "print(x) # prints a tuple of indices of match value"
   ]
  },
  {
   "cell_type": "code",
   "execution_count": null,
   "id": "5d690bc3",
   "metadata": {},
   "outputs": [],
   "source": [
    "arr = np.arange(1,11)\n",
    "x = np.where(arr%2 ==1)\n",
    "x"
   ]
  },
  {
   "cell_type": "markdown",
   "id": "787805c9",
   "metadata": {},
   "source": [
    "The searchsorted() method is assumed to be used on sorted arrays."
   ]
  },
  {
   "cell_type": "code",
   "execution_count": null,
   "id": "0ced441e",
   "metadata": {},
   "outputs": [],
   "source": [
    "arr2 = np.array([8,3,5,4,6]) # this need to be sorted before using searchsorted() func\n",
    "np.sort(arr2)\n",
    "x = np.searchsorted(arr2,7)\n",
    "y=np.searchsorted(arr2,1, side=\"right\")\n",
    "print(x) # returns the index\n",
    "print(y) # returns the index from right side"
   ]
  },
  {
   "cell_type": "markdown",
   "id": "632d2a0c",
   "metadata": {},
   "source": [
    "for multiple values"
   ]
  },
  {
   "cell_type": "code",
   "execution_count": null,
   "id": "85da171c",
   "metadata": {},
   "outputs": [],
   "source": [
    "arr2 = np.array([8,3,5,4,6])\n",
    "np.sort(arr2)\n",
    "x = np.searchsorted(arr2,[7,9,1])\n",
    "x # returns an arry of indices"
   ]
  },
  {
   "cell_type": "code",
   "execution_count": null,
   "id": "2ec45b63",
   "metadata": {},
   "outputs": [],
   "source": []
  }
 ],
 "metadata": {
  "kernelspec": {
   "display_name": "Python 3",
   "language": "python",
   "name": "python3"
  },
  "language_info": {
   "codemirror_mode": {
    "name": "ipython",
    "version": 3
   },
   "file_extension": ".py",
   "mimetype": "text/x-python",
   "name": "python",
   "nbconvert_exporter": "python",
   "pygments_lexer": "ipython3",
   "version": "3.8.8"
  }
 },
 "nbformat": 4,
 "nbformat_minor": 5
}
