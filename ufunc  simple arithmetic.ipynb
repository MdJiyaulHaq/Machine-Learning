{
 "cells": [
  {
   "cell_type": "code",
   "execution_count": 50,
   "id": "408cf7d1",
   "metadata": {},
   "outputs": [
    {
     "name": "stdout",
     "output_type": "stream",
     "text": [
      "[30 32 34 36 38 40]\n"
     ]
    }
   ],
   "source": [
    "import numpy as np\n",
    "\n",
    "arr1 = np.array([10, 11, 12, 13, 14, 15])\n",
    "arr2 = np.array([20, 21, 22, 23, 24, 25])\n",
    "\n",
    "newarr = np.add(arr1, arr2)\n",
    "\n",
    "newarr"
   ]
  },
  {
   "cell_type": "markdown",
   "id": "7bd0d6af",
   "metadata": {},
   "source": [
    "similarly,\n",
    "subtract, divide, multiply"
   ]
  },
  {
   "cell_type": "code",
   "execution_count": null,
   "id": "0240b2f5",
   "metadata": {},
   "outputs": [],
   "source": [
    "import numpy as np\n",
    "\n",
    "arr1 = np.array([10, 20, 30, 40, 50, 60])\n",
    "arr2 = np.array([3, 5, 6, 8, 2, 33])\n",
    "\n",
    "newarr = np.mod(arr1, arr2) # alternatively remaind\n",
    "\n",
    "pnewarr"
   ]
  },
  {
   "cell_type": "markdown",
   "id": "29a6f32a",
   "metadata": {},
   "source": [
    "similarly,\n",
    "power, divmod # divmod gives two array i) divide  ii) mod"
   ]
  },
  {
   "cell_type": "code",
   "execution_count": 51,
   "id": "d7673df6",
   "metadata": {},
   "outputs": [
    {
     "data": {
      "text/plain": [
       "array([2, 5, 7, 1, 4, 9])"
      ]
     },
     "execution_count": 51,
     "metadata": {},
     "output_type": "execute_result"
    }
   ],
   "source": [
    "arr= np.array([-2,-5,7,1,-4,9])\n",
    "\n",
    "newarr= np.absolute(arr)\n",
    "newarr"
   ]
  },
  {
   "cell_type": "code",
   "execution_count": null,
   "id": "8bae7bac",
   "metadata": {},
   "outputs": [],
   "source": []
  }
 ],
 "metadata": {
  "kernelspec": {
   "display_name": "Python 3",
   "language": "python",
   "name": "python3"
  },
  "language_info": {
   "codemirror_mode": {
    "name": "ipython",
    "version": 3
   },
   "file_extension": ".py",
   "mimetype": "text/x-python",
   "name": "python",
   "nbconvert_exporter": "python",
   "pygments_lexer": "ipython3",
   "version": "3.8.8"
  }
 },
 "nbformat": 4,
 "nbformat_minor": 5
}
